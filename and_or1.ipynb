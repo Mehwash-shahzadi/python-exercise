{
 "cells": [
  {
   "cell_type": "markdown",
   "metadata": {},
   "source": [
    "#EXERCISE WATCH COCO"
   ]
  },
  {
   "cell_type": "markdown",
   "metadata": {},
   "source": [
    "ask user's name and age\n",
    "\n",
    "if user name start with ('a' or 'A')  and age is above 10 then \n",
    "\n",
    "print you can watch coco movie\n",
    "\n",
    "else print sorry you can not watch coco."
   ]
  },
  {
   "cell_type": "code",
   "execution_count": 2,
   "metadata": {},
   "outputs": [
    {
     "name": "stdout",
     "output_type": "stream",
     "text": [
      "You can watch coco movie\n"
     ]
    }
   ],
   "source": [
    "user_name=input(\"enter the name: \")\n",
    "user_age=int(input(\"enter the age: \"))\n",
    "if user_age>=10 and(user_name[0]=='a' or user_name[0]=='A'):\n",
    "    print(\"You can watch coco movie\")\n",
    "else:\n",
    "    print(\"sorry, you can't watch\")"
   ]
  }
 ],
 "metadata": {
  "kernelspec": {
   "display_name": "Python 3",
   "language": "python",
   "name": "python3"
  },
  "language_info": {
   "codemirror_mode": {
    "name": "ipython",
    "version": 3
   },
   "file_extension": ".py",
   "mimetype": "text/x-python",
   "name": "python",
   "nbconvert_exporter": "python",
   "pygments_lexer": "ipython3",
   "version": "3.8.8"
  }
 },
 "nbformat": 4,
 "nbformat_minor": 2
}
