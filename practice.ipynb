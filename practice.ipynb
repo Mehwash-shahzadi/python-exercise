{
 "cells": [
  {
   "cell_type": "markdown",
   "metadata": {},
   "source": [
    "write a python program to calculate the length of string"
   ]
  },
  {
   "cell_type": "code",
   "execution_count": 2,
   "metadata": {},
   "outputs": [
    {
     "name": "stdout",
     "output_type": "stream",
     "text": [
      "length of name:7\n"
     ]
    }
   ],
   "source": [
    "name='mehwash'\n",
    "print(f'length of name:{len(name)}')"
   ]
  },
  {
   "cell_type": "markdown",
   "metadata": {},
   "source": [
    "write a python program to count the number of character (character frequency)  in a string.\n",
    "\n",
    "sample string:\"Mehwash shahzadi\""
   ]
  },
  {
   "cell_type": "code",
   "execution_count": 8,
   "metadata": {},
   "outputs": [
    {
     "name": "stdout",
     "output_type": "stream",
     "text": [
      "{'M': 1, 'e': 1, 'h': 4, 'w': 1, 'a': 3, 's': 2, ' ': 1, 'z': 1, 'd': 1, 'i': 1}\n"
     ]
    }
   ],
   "source": [
    "name=\"Mehwash shahzadi\"\n",
    "char_fre={}\n",
    "for char in name:\n",
    "    if char not in char_fre:\n",
    "        char_fre[char]=1\n",
    "    else:\n",
    "        char_fre[char]+=1\n",
    "print(char_fre)"
   ]
  },
  {
   "cell_type": "markdown",
   "metadata": {},
   "source": [
    "Question#3  write a python program to get a string made of first 2 and last 2 character of a given string.if the string length is less than 2,\n",
    "return the empty string\n",
    "\n",
    "sample string:'w3resource'\n",
    "expected result:'w3ce'\n",
    "\n",
    "sample string:'w3'\n",
    "expected result:'w3w3'\n",
    "\n",
    "sample string:'w'\n",
    "expected result:empty string"
   ]
  },
  {
   "cell_type": "code",
   "execution_count": 14,
   "metadata": {},
   "outputs": [
    {
     "name": "stdout",
     "output_type": "stream",
     "text": [
      "w3ce\n"
     ]
    }
   ],
   "source": [
    "def start_end(str):\n",
    "    if len(str)<2:\n",
    "        return ' '\n",
    "    return (str[0:2]+str[-2:])\n",
    "str='w3resource'\n",
    "output=start_end(str)\n",
    "print(output)\n"
   ]
  },
  {
   "cell_type": "markdown",
   "metadata": {},
   "source": [
    "Question#4 write a python program to get a string from a given string where all occurance of its first char have been changed to \"$\n",
    "except the first char itself.\n",
    "\n",
    "sample string:'restart'\n",
    "expected result:'resta$t'"
   ]
  },
  {
   "cell_type": "code",
   "execution_count": 28,
   "metadata": {},
   "outputs": [
    {
     "name": "stdout",
     "output_type": "stream",
     "text": [
      "resta$t\n"
     ]
    }
   ],
   "source": [
    "def change_string(str):\n",
    "    str1=str.lower()\n",
    "    char=str1[0]\n",
    "    str2=str1.replace(char,\"$\")\n",
    "    return (char+str2[1:])\n",
    "print(change_string('restart'))"
   ]
  },
  {
   "cell_type": "markdown",
   "metadata": {},
   "source": [
    "Question5. Swap first 2 chars of 2 strings.\n",
    "\n",
    "Write a Python program to get a single string from two given strings, separated by a space and swap the first two characters of each string.\n",
    "\n",
    "Sample String : 'abc', 'xyz'\n",
    "\n",
    "Expected Result : 'xyc abz'"
   ]
  },
  {
   "cell_type": "code",
   "execution_count": 40,
   "metadata": {},
   "outputs": [
    {
     "name": "stdout",
     "output_type": "stream",
     "text": [
      "xyc abz\n"
     ]
    }
   ],
   "source": [
    "str1='abc'\n",
    "str2='xyz'\n",
    "result1=str1[0:2]\n",
    "result2=str2[0:2]\n",
    "result1,result2=result2,result1\n",
    "result3=result1+str1[2:]+ \" \"+result2+str2[2:]\n",
    "print(result3)\n"
   ]
  },
  {
   "cell_type": "markdown",
   "metadata": {},
   "source": [
    "#second method"
   ]
  },
  {
   "cell_type": "code",
   "execution_count": 42,
   "metadata": {},
   "outputs": [
    {
     "name": "stdout",
     "output_type": "stream",
     "text": [
      "xyc abz\n"
     ]
    }
   ],
   "source": [
    "def mix_up(str1,str2):\n",
    "    str3=str2[:2]+str1[2:]\n",
    "    str4=str1[:2]+str2[2:]\n",
    "    return str3+\" \"+str4\n",
    "print(mix_up('abc','xyz'))"
   ]
  },
  {
   "cell_type": "markdown",
   "metadata": {},
   "source": [
    "Question6. Add ing or ly to a string.\n",
    "\n",
    "Write a Python program to add 'ing' at the end of a given string (length should be at least 3). If the given string already ends with 'ing', add 'ly' instead. If the string length of the given string is less than 3, leave it unchanged.\n",
    "\n",
    "Sample String : 'abc'\n",
    "Expected Result : 'abcing'\n",
    "\n",
    "Sample String : 'string'\n",
    "Expected Result : 'stringly'"
   ]
  },
  {
   "cell_type": "code",
   "execution_count": 3,
   "metadata": {},
   "outputs": [
    {
     "name": "stdout",
     "output_type": "stream",
     "text": [
      "abcing\n",
      "stringly\n"
     ]
    }
   ],
   "source": [
    "def add_string(str):\n",
    "    length=len(str)\n",
    "    if length>2:\n",
    "        if str[-3:]=='ing':\n",
    "           str+='ly'\n",
    "        else:\n",
    "           str+='ing'\n",
    "    return str\n",
    "print(add_string('abc'))\n",
    "print(add_string('string'))"
   ]
  },
  {
   "cell_type": "markdown",
   "metadata": {},
   "source": [
    "7. Replace 'not'...'poor' with 'good'.\n",
    "\n",
    "Write a Python program to find the first appearance of the substrings 'not' and 'poor' in a given string. If 'not' follows 'poor', replace the whole 'not'...'poor' substring with 'good'. Return the resulting string.\n",
    "\n",
    "Sample String : 'The lyrics is not that poor!'\n",
    "'The lyrics is poor!'\n",
    "Expected Result : 'The lyrics is good!'\n",
    "'The lyrics is poor!'"
   ]
  },
  {
   "cell_type": "code",
   "execution_count": 28,
   "metadata": {},
   "outputs": [
    {
     "name": "stdout",
     "output_type": "stream",
     "text": [
      "The lyrics is good!\n",
      "The lyrics is poor!\n"
     ]
    }
   ],
   "source": [
    "\n",
    "def not_poor(str1):\n",
    "    snot = str1.find('not')\n",
    "    spoor = str1.find('poor')\n",
    "    if spoor > snot and snot > 0 and spoor > 0:\n",
    "        # Replace the substring from 'snot' to 'spoor+4' (inclusive) with 'good'.\n",
    "        str1 = str1.replace(str1[snot:(spoor+4)], 'good')\n",
    "        return str1\n",
    "    else:\n",
    "        return str1\n",
    "print(not_poor('The lyrics is not that poor!'))  # Output: 'The lyrics is good!'\n",
    "print(not_poor('The lyrics is poor!')) "
   ]
  },
  {
   "cell_type": "markdown",
   "metadata": {},
   "source": [
    "8. Find longest word in a list.\n",
    "\n",
    "Write a Python function that takes a list of words and return the longest word and the length of the longest one.\n",
    "\n",
    "Sample Output:\n",
    "\n",
    "Longest word: Exercises\n",
    "\n",
    "Length of the longest word: 9"
   ]
  },
  {
   "cell_type": "code",
   "execution_count": 24,
   "metadata": {},
   "outputs": [
    {
     "name": "stdout",
     "output_type": "stream",
     "text": [
      "\n",
      "Longest word:  exercise\n",
      "Length of the longest word:  8\n"
     ]
    }
   ],
   "source": [
    "def list_word(list):\n",
    "    count_length=[]\n",
    "    for words in list:\n",
    "        count_length.append((len(words),words))\n",
    "    count_length.sort()\n",
    "    return count_length[-1][0],count_length[-1][1]#[-1]represent the last tuple in count_length and [0] is the first index value(8) ,and [1] is the second index value(exercise)\n",
    "result=(list_word(['mehwash','php','exercise']))\n",
    "print(\"\\nLongest word: \", result[1])\n",
    "print(\"Length of the longest word: \", result[0])"
   ]
  },
  {
   "cell_type": "markdown",
   "metadata": {},
   "source": [
    "9. Remove nth character from a string.\n",
    "\n",
    "Write a  Python program to remove the nth index character from a nonempty string."
   ]
  },
  {
   "cell_type": "code",
   "execution_count": null,
   "metadata": {},
   "outputs": [],
   "source": []
  },
  {
   "cell_type": "markdown",
   "metadata": {},
   "source": [
    "10. Swap first and last chars of a string.\n",
    "\n",
    "Write a Python program to change a given string to a newly string where the first and last chars have been exchanged."
   ]
  },
  {
   "cell_type": "code",
   "execution_count": 5,
   "metadata": {},
   "outputs": [
    {
     "name": "stdout",
     "output_type": "stream",
     "text": [
      "hehwasm\n"
     ]
    }
   ],
   "source": [
    "name='mehwash'\n",
    "result=name[-1:]+name[1:-1]+name[:1]\n",
    "print(result)\n"
   ]
  },
  {
   "cell_type": "markdown",
   "metadata": {},
   "source": [
    "Explain the difference between if, elif, and else statements in Python. Provide an example where all three are used.\n",
    "\n",
    "\"Write a Python program that takes a number as input and checks if it is positive, negative, or zero using if, elif, and else statements.\""
   ]
  },
  {
   "cell_type": "code",
   "execution_count": 3,
   "metadata": {},
   "outputs": [
    {
     "name": "stdout",
     "output_type": "stream",
     "text": [
      "negative\n",
      "None\n"
     ]
    }
   ],
   "source": [
    "def check_number():\n",
    "    number=int(input(\"enter the number:\"))\n",
    "    if number>0:\n",
    "        print(\"positive\")\n",
    "    elif number<0:\n",
    "        print(\"negative\")\n",
    "    else:\n",
    "        print('zero')\n",
    "print(check_number())"
   ]
  },
  {
   "cell_type": "markdown",
   "metadata": {},
   "source": [
    "*\"Write a Python program that takes a student's score as input and prints their grade based on the following conditions:\n",
    "\n",
    "'A' for scores 90 and above\n",
    "\n",
    "'B' for scores between 80 and 89\n",
    "\n",
    "'C' for scores between 70 and 79\n",
    "\n",
    "'D' for scores between 60 and 69\n",
    "\n",
    "'F' for scores below 60 using if, elif, and else statements.\"*"
   ]
  },
  {
   "cell_type": "code",
   "execution_count": 10,
   "metadata": {},
   "outputs": [
    {
     "name": "stdout",
     "output_type": "stream",
     "text": [
      "D\n"
     ]
    }
   ],
   "source": [
    "def grades():\n",
    "    number=int(input(\"enter the number:\"))\n",
    "    if number>=90:\n",
    "        print('A')\n",
    "    elif 80 <= number < 90:\n",
    "        print('B')\n",
    "    elif 70 <=number <80:\n",
    "        print('C')\n",
    "    elif 60 <= number <70:\n",
    "        print('D')\n",
    "    else:\n",
    "        print('F')\n",
    "grades()"
   ]
  },
  {
   "cell_type": "code",
   "execution_count": 11,
   "metadata": {},
   "outputs": [
    {
     "name": "stdout",
     "output_type": "stream",
     "text": [
      "number1 is small\n"
     ]
    }
   ],
   "source": [
    "number1=int(input(\"enter the number1:\"))\n",
    "number2=int(input(\"enter the number2:\"))\n",
    "if number1>number2:\n",
    "    print(\"number1 is greater\")\n",
    "if number1<number2:\n",
    "    print(\"number1 is small\")\n",
    "if number1==number2:\n",
    "    print(\"number1 is equal\")"
   ]
  },
  {
   "cell_type": "markdown",
   "metadata": {},
   "source": [
    "*\"Write a Python program that checks if a user is eligible for a discount based on their age and membership status. The conditions are as follows:\n",
    "\n",
    "If the user is under 18 or over 65, they are eligible for a senior/child discount.\n",
    "\n",
    "If the user is a member and is between 18 and 65 years old, they are eligible for a regular member discount.\n",
    "\n",
    "If the user is not a member and is between 18 and 65 years old, they are not eligible for a discount.\"*"
   ]
  },
  {
   "cell_type": "code",
   "execution_count": 2,
   "metadata": {},
   "outputs": [
    {
     "name": "stdout",
     "output_type": "stream",
     "text": [
      "You are eligible for a senior/child discount.\n"
     ]
    }
   ],
   "source": [
    "\n",
    "age = int(input(\"Enter your age: \"))\n",
    "membership_status = input(\"Are you a member? (yes/no): \").lower()\n",
    "if age < 18 or age > 65:\n",
    "    print(\"You are eligible for a senior/child discount.\")\n",
    "elif membership_status == \"yes\" and 18 <= age <= 65:\n",
    "    print(\"You are eligible for a regular member discount.\")\n",
    "else:\n",
    "    print(\"You are not eligible for a discount.\")"
   ]
  },
  {
   "cell_type": "markdown",
   "metadata": {},
   "source": [
    "*\"Write a Python program that checks if a student qualifies for a scholarship based on their GPA and extracurricular activities. The conditions are as follows:\n",
    "\n",
    "If the GPA is greater than or equal to 3.5 and the student participates in extracurricular activities, they qualify for a scholarship.\n",
    "\n",
    "If the GPA is between 3.0 and 3.49 or the student participates in extracurricular activities, they get a partial scholarship.\n",
    "\n",
    "If neither of the above conditions is met, they are not eligible for a scholarship.\"*"
   ]
  },
  {
   "cell_type": "code",
   "execution_count": null,
   "metadata": {},
   "outputs": [],
   "source": [
    "gpa = float(input(\"Enter your gpa: \"))\n",
    "activities = input(\"can you participate in extracircular activities? (yes/no): \").lower()\n",
    "if gpa>=3.5 and activities=='yes':\n",
    "    print('qualify for a scholarship')\n",
    "elif activities=='yes' or  3.0<= gpa <=3.49:\n",
    "    print('partial scholarship')\n",
    "else:\n",
    "    print('not eligible')\n"
   ]
  },
  {
   "cell_type": "markdown",
   "metadata": {},
   "source": [
    "What are nested conditionals? Create a Python program that uses nested if statements to determine if a user is eligible for a senior citizen discount based on age and membership status."
   ]
  },
  {
   "cell_type": "code",
   "execution_count": 20,
   "metadata": {},
   "outputs": [
    {
     "name": "stdout",
     "output_type": "stream",
     "text": [
      "not eligible\n"
     ]
    }
   ],
   "source": [
    "age = int(input(\"Enter your age: \"))\n",
    "membership_status = input(\"Are you a member? (yes/no): \").lower()\n",
    "if age>65:\n",
    "    if membership_status=='yes':\n",
    "        print('Eligible for senior citizen discount')\n",
    "    else:\n",
    "        print('membership_status required')\n",
    "else:\n",
    "    print('not eligible')"
   ]
  },
  {
   "cell_type": "markdown",
   "metadata": {},
   "source": [
    "Write a Python function that takes a user’s age as input and prints different messages based on the following criteria: \n",
    "\n",
    "under 13 (child), \n",
    "\n",
    "13-19 (teenager), \n",
    "\n",
    "20-64 (adult),\n",
    "\n",
    " 65 and above (senior). Use if, elif, and else statements."
   ]
  },
  {
   "cell_type": "code",
   "execution_count": 34,
   "metadata": {},
   "outputs": [
    {
     "name": "stdout",
     "output_type": "stream",
     "text": [
      "adult\n"
     ]
    }
   ],
   "source": [
    "def calculate_age():\n",
    "    age=int(input(\"enter the age:\"))\n",
    "    if age<13:\n",
    "        print('child')\n",
    "    elif 13<=age<20:\n",
    "        print('teenager')\n",
    "    elif 20<=age<65:\n",
    "        print('adult')\n",
    "    else:\n",
    "        print('senior')\n",
    "calculate_age()"
   ]
  },
  {
   "cell_type": "markdown",
   "metadata": {},
   "source": [
    "Discuss how boolean values (True and False) are utilized within conditional statements. Provide an example where a boolean variable controls the flow of the program."
   ]
  },
  {
   "cell_type": "code",
   "execution_count": 2,
   "metadata": {},
   "outputs": [
    {
     "name": "stdout",
     "output_type": "stream",
     "text": [
      "palindrome\n"
     ]
    }
   ],
   "source": [
    "s=input('enter a string:')\n",
    "s=s.replace(\" \",\"\").lower()\n",
    "start=0\n",
    "end=len(s)-1\n",
    "flag=True\n",
    "while start<end:\n",
    "    if s[start]!=s[end]:\n",
    "        flag=False\n",
    "    start+=1\n",
    "    end-=1\n",
    "if flag:\n",
    "    print('palindrome')\n",
    "else:\n",
    "    print('not palindrome')"
   ]
  },
  {
   "cell_type": "code",
   "execution_count": 5,
   "metadata": {},
   "outputs": [
    {
     "name": "stdout",
     "output_type": "stream",
     "text": [
      "not palindrome\n"
     ]
    }
   ],
   "source": [
    "def check_palindrome(string):\n",
    "    n=len(string)\n",
    "    for i in range(n//2):\n",
    "        if string[i]!=string[n-i-1]:\n",
    "            return False\n",
    "    return True\n",
    "string=input('enter the string:')\n",
    "string=string.replace(\" \",\"\").lower()\n",
    "if check_palindrome(string):\n",
    "    print(\"palindrome\")\n",
    "else:\n",
    "    print(\"not palindrome\")\n"
   ]
  },
  {
   "cell_type": "markdown",
   "metadata": {},
   "source": [
    "Write a Python program that uses a for loop to iterate over a list of numbers and prints only the even numbers."
   ]
  },
  {
   "cell_type": "code",
   "execution_count": 4,
   "metadata": {},
   "outputs": [
    {
     "name": "stdout",
     "output_type": "stream",
     "text": [
      "2,4,6,8,10,"
     ]
    }
   ],
   "source": [
    "number_list=[1,2,3,4,5,6,7,8,9,10]\n",
    "for i in number_list:\n",
    "    if i % 2==0:\n",
    "        print(i , end=\",\")\n",
    "   "
   ]
  },
  {
   "cell_type": "markdown",
   "metadata": {},
   "source": [
    "Write a Python function that uses a while loop to calculate the factorial of a given number. Ensure that the function handles invalid inputs gracefully."
   ]
  },
  {
   "cell_type": "code",
   "execution_count": 40,
   "metadata": {},
   "outputs": [
    {
     "name": "stdout",
     "output_type": "stream",
     "text": [
      "factorial:factorial is not defined for negative numbers \n"
     ]
    }
   ],
   "source": [
    "def cal_factorial(number):\n",
    "    if number<0:\n",
    "        return \"factorial is not defined for negative numbers \"\n",
    "        \n",
    "    fact=1\n",
    "    while number>0:\n",
    "        fact*=number\n",
    "        number-=1\n",
    "    return fact\n",
    "try:\n",
    "    number=int(input(\"enter the number:\"))\n",
    "    print(f\"factorial:{cal_factorial(number)}\")\n",
    "except ValueError:\n",
    "    print('enter a valid integer')\n"
   ]
  },
  {
   "cell_type": "markdown",
   "metadata": {},
   "source": [
    "Create a Python script that uses nested for loops to print a multiplication table (from 1 to 5)."
   ]
  },
  {
   "cell_type": "code",
   "execution_count": 52,
   "metadata": {},
   "outputs": [
    {
     "name": "stdout",
     "output_type": "stream",
     "text": [
      "1*1=1 1*2=2 1*3=3 1*4=4 1*5=5 1*6=6 1*7=7 1*8=8 1*9=9 1*10=10 \n",
      "2*1=2 2*2=4 2*3=6 2*4=8 2*5=10 2*6=12 2*7=14 2*8=16 2*9=18 2*10=20 \n",
      "3*1=3 3*2=6 3*3=9 3*4=12 3*5=15 3*6=18 3*7=21 3*8=24 3*9=27 3*10=30 \n",
      "4*1=4 4*2=8 4*3=12 4*4=16 4*5=20 4*6=24 4*7=28 4*8=32 4*9=36 4*10=40 \n",
      "5*1=5 5*2=10 5*3=15 5*4=20 5*5=25 5*6=30 5*7=35 5*8=40 5*9=45 5*10=50 \n"
     ]
    }
   ],
   "source": [
    "for i in range(1,6):\n",
    "    for j in range(1,11):\n",
    "        result=i*j\n",
    "        print(f'{i}*{j}={result}',end=\" \")\n",
    "    print( )       "
   ]
  },
  {
   "cell_type": "markdown",
   "metadata": {},
   "source": [
    "xplain how break and continue statements affect the flow of loops. Provide examples where each would be appropriately used."
   ]
  },
  {
   "cell_type": "code",
   "execution_count": 53,
   "metadata": {},
   "outputs": [
    {
     "name": "stdout",
     "output_type": "stream",
     "text": [
      "1\n",
      "2\n",
      "3\n",
      "4\n"
     ]
    }
   ],
   "source": [
    "for i in range(1,11):\n",
    "    if i==5:\n",
    "        break\n",
    "    print(i)"
   ]
  },
  {
   "cell_type": "code",
   "execution_count": 54,
   "metadata": {},
   "outputs": [
    {
     "name": "stdout",
     "output_type": "stream",
     "text": [
      "1\n",
      "3\n",
      "5\n",
      "7\n",
      "9\n"
     ]
    }
   ],
   "source": [
    "for i in range(1,11):\n",
    "    if i%2==0:\n",
    "        continue\n",
    "    print(i)"
   ]
  },
  {
   "cell_type": "markdown",
   "metadata": {},
   "source": [
    "Develop a Python program that continuously prompts the user to enter numbers until they type 'done'. The program should then print the sum and average of the entered numbers. Use a while loop to achieve this."
   ]
  },
  {
   "cell_type": "code",
   "execution_count": 1,
   "metadata": {},
   "outputs": [
    {
     "name": "stdout",
     "output_type": "stream",
     "text": [
      "invalid input\n",
      "sum:8.0\n",
      "average:8.0\n"
     ]
    }
   ],
   "source": [
    "total=0\n",
    "count=0\n",
    "while True:\n",
    "    user_input=input('enter the number (type done)')\n",
    "    if user_input=='done':\n",
    "        break\n",
    "    try:\n",
    "        number=float(user_input)\n",
    "        total+=number\n",
    "        count+=1\n",
    "    except ValueError:\n",
    "        print('invalid input')\n",
    "if count>0:\n",
    "    print(f'sum:{total}')\n",
    "    print(f'average:{(total)/count}')\n",
    "else:\n",
    "    print('enter no number')"
   ]
  },
  {
   "cell_type": "markdown",
   "metadata": {},
   "source": [
    "- **Goal**: Maintain a simple grocery list using list operations.\n",
    "\n",
    "    1. Create an empty list called `grocery_list`.\n",
    "\n",
    "    2. Prompt the user to add items.\n",
    "\n",
    "    3. Use `append()` to add items and `pop()` or `remove()` to handle deletions.\n",
    "    \n",
    "    4. Print the final list of grocery items."
   ]
  },
  {
   "cell_type": "code",
   "execution_count": 7,
   "metadata": {},
   "outputs": [
    {
     "name": "stdout",
     "output_type": "stream",
     "text": [
      "no item\n",
      "grocery list:['rrr', 'rrr']\n",
      "good_by\n"
     ]
    }
   ],
   "source": [
    "grocery_list=[]\n",
    "while True:\n",
    "    choice=input('n\\1. add_item | 2.remove | 3.exit')\n",
    "    if choice=='1':\n",
    "        add=input('enter the item')\n",
    "        grocery_list.append(add)\n",
    "    elif choice=='2':\n",
    "        remove_item=input('enter the item which remove:')\n",
    "        if remove_item in grocery_list:\n",
    "            grocery_list.remove(remove_item)\n",
    "        else:\n",
    "            print('no item')\n",
    "    elif choice=='3':\n",
    "        print(f'grocery list:{grocery_list}')\n",
    "        print('good_by')\n",
    "        break\n",
    "    else:\n",
    "        print('invalid choice')\n"
   ]
  },
  {
   "cell_type": "markdown",
   "metadata": {},
   "source": [
    "Create a Python script that merges two sets of student names and then prints the intersection of those sets (i.e., students who appear in both sets)."
   ]
  },
  {
   "cell_type": "code",
   "execution_count": 10,
   "metadata": {},
   "outputs": [
    {
     "name": "stdout",
     "output_type": "stream",
     "text": [
      "{'mehwash', 'maheen'}\n",
      "{'mehwash', 'maheen'}\n"
     ]
    }
   ],
   "source": [
    "student1_names={'mehwash','maheen','mobeen'}\n",
    "student2_names={'mehwash','maheen','ali'}\n",
    "result=student1_names & student2_names\n",
    "print(result) \n",
    "print(student1_names.intersection(student2_names))"
   ]
  },
  {
   "cell_type": "code",
   "execution_count": 25,
   "metadata": {},
   "outputs": [
    {
     "name": "stdout",
     "output_type": "stream",
     "text": [
      "{1, 5, 6, 8, 9, 10, 12}\n",
      "{8, 1, 5}\n",
      "{9, 6}\n"
     ]
    }
   ],
   "source": [
    "set1={1,5,6,8,9}\n",
    "set2={1,5,12,8,10}\n",
    "print(set1.union(set2))\n",
    "print(set1.intersection(set2))\n",
    "print(set1.difference(set2))#Sets in Python are unordered collections, \n",
    "#so the order of elements in the output may vary. {6, 9} and {9, 6} are identical because sets focus on membership, not order."
   ]
  },
  {
   "cell_type": "markdown",
   "metadata": {},
   "source": [
    "Given a tuple coords = (10, 20), show how you would unpack its values into two separate variables, x and y."
   ]
  },
  {
   "cell_type": "code",
   "execution_count": 28,
   "metadata": {},
   "outputs": [
    {
     "name": "stdout",
     "output_type": "stream",
     "text": [
      "20\n"
     ]
    }
   ],
   "source": [
    "coords = (10, 20)\n",
    "x,y=coords\n",
    "print(y)"
   ]
  },
  {
   "cell_type": "markdown",
   "metadata": {},
   "source": [
    "How do you add and remove items from a list in Python? Provide a code example showing both operations."
   ]
  },
  {
   "cell_type": "code",
   "execution_count": 35,
   "metadata": {},
   "outputs": [
    {
     "name": "stdout",
     "output_type": "stream",
     "text": [
      "['milk', 'Bananana', 'milk']\n"
     ]
    }
   ],
   "source": [
    "\n",
    "def add_remove_items(Grocery_list):\n",
    "    add_item=input('add element:')\n",
    "    Grocery_list.append(add_item)\n",
    "    remove_item=input('enter the item:')\n",
    "    Grocery_list.remove(remove_item) if remove_item in Grocery_list else print('no item')\n",
    "    return Grocery_list\n",
    "Grocery_list=['milk','Apple','Bananana']\n",
    "print(add_remove_items(Grocery_list))\n"
   ]
  },
  {
   "cell_type": "markdown",
   "metadata": {},
   "source": [
    "Write a short code snippet to demonstrate how to slice a list of numbers from index 2 to index 5 (non-inclusive of 5)."
   ]
  },
  {
   "cell_type": "code",
   "execution_count": 37,
   "metadata": {},
   "outputs": [
    {
     "name": "stdout",
     "output_type": "stream",
     "text": [
      "[3, 6, 7]\n"
     ]
    }
   ],
   "source": [
    "list1=[1,2,3,6,7,8,9,4,5]\n",
    "print(list1[2:5])"
   ]
  },
  {
   "cell_type": "code",
   "execution_count": 43,
   "metadata": {},
   "outputs": [
    {
     "name": "stdout",
     "output_type": "stream",
     "text": [
      "original list: [1, 2, 3, 3, 4, 4, 5, 5, 6, 9, 9]\n",
      "unique list: [1, 2, 3, 4, 5, 6, 9]\n"
     ]
    }
   ],
   "source": [
    "def unique_list(input_list):\n",
    "    return list(set(input_list))\n",
    "input_list=[1,2,3,3,4,4,5,5,6,9,9]\n",
    "result=unique_list(input_list)\n",
    "print(f'original list: {input_list}')\n",
    "print(f'unique list: {result}')"
   ]
  },
  {
   "cell_type": "markdown",
   "metadata": {},
   "source": [
    "How can you ensure that a function returns a meaningful error message when given unexpected input? Provide an example that includes error handling within a function."
   ]
  },
  {
   "cell_type": "code",
   "execution_count": null,
   "metadata": {},
   "outputs": [
    {
     "name": "stdout",
     "output_type": "stream",
     "text": [
      "division by zero is not allowed\n"
     ]
    }
   ],
   "source": [
    "def number_division(a,b):\n",
    "    try:\n",
    "        if  not isinstance(a,(int,float)) or not isinstance(b,(int,float)):\n",
    "            raise TypeError('input must be number (int or float)')\n",
    "        if b==0:\n",
    "            raise ValueError('division by zero is not allowed')\n",
    "        return a//b\n",
    "    except (TypeError,ValueError) as e:\n",
    "        return e\n",
    "print(number_division(6,0))"
   ]
  },
  {
   "cell_type": "markdown",
   "metadata": {},
   "source": [
    "Explain how you can pass a variable number of arguments to a function in Python using args and *kwargs. Write a sample function that demonstrates their usage."
   ]
  },
  {
   "cell_type": "code",
   "execution_count": 17,
   "metadata": {},
   "outputs": [
    {
     "name": "stdout",
     "output_type": "stream",
     "text": [
      "((1, 2, 3), {'a': 1, 'b': 8})\n"
     ]
    }
   ],
   "source": [
    "def func(*args,**kwargs):\n",
    "    return args , kwargs\n",
    "print(func(1,2,3,a=1,b=8))\n"
   ]
  },
  {
   "cell_type": "code",
   "execution_count": 18,
   "metadata": {},
   "outputs": [
    {
     "name": "stdout",
     "output_type": "stream",
     "text": [
      "5\n"
     ]
    }
   ],
   "source": [
    "add=lambda a,b:a+b\n",
    "print(add(2,3))"
   ]
  },
  {
   "cell_type": "code",
   "execution_count": 26,
   "metadata": {},
   "outputs": [
    {
     "name": "stdout",
     "output_type": "stream",
     "text": [
      "('mehwash', 21)\n",
      "('mehwash', 'unknown')\n",
      "('unknown', 'unknown')\n"
     ]
    }
   ],
   "source": [
    "def user_info(name='unknown',age='unknown'):\n",
    "    return name,age\n",
    "print(user_info('mehwash',21))\n",
    "print(user_info('mehwash'))\n",
    "print(user_info())"
   ]
  },
  {
   "cell_type": "code",
   "execution_count": 38,
   "metadata": {},
   "outputs": [
    {
     "name": "stdout",
     "output_type": "stream",
     "text": [
      "{'name': 'maheen', 'city': 'okara'}\n"
     ]
    }
   ],
   "source": [
    "user_information={'name':'mehwash','age':21}\n",
    "user_information['city']='okara'\n",
    "user_information['name']='maheen'\n",
    "user_information.pop('age','not found')\n",
    "print(user_information)\n"
   ]
  },
  {
   "cell_type": "code",
   "execution_count": 40,
   "metadata": {},
   "outputs": [
    {
     "name": "stdout",
     "output_type": "stream",
     "text": [
      "B\n"
     ]
    }
   ],
   "source": [
    "students_grades={\n",
    "    'Maheen':'A',\n",
    "    'Anzish':'B',\n",
    "    'Mishil':'C'\n",
    "}\n",
    "print(students_grades.get('Anzish'))"
   ]
  },
  {
   "cell_type": "code",
   "execution_count": null,
   "metadata": {},
   "outputs": [],
   "source": []
  }
 ],
 "metadata": {
  "kernelspec": {
   "display_name": "Python 3",
   "language": "python",
   "name": "python3"
  },
  "language_info": {
   "codemirror_mode": {
    "name": "ipython",
    "version": 3
   },
   "file_extension": ".py",
   "mimetype": "text/x-python",
   "name": "python",
   "nbconvert_exporter": "python",
   "pygments_lexer": "ipython3",
   "version": "3.8.8"
  }
 },
 "nbformat": 4,
 "nbformat_minor": 2
}
