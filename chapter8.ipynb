{
 "cells": [
  {
   "cell_type": "markdown",
   "metadata": {},
   "source": [
    "#SETS : Unordered collection of unique items."
   ]
  },
  {
   "cell_type": "markdown",
   "metadata": {},
   "source": [
    ".remove duplicates items."
   ]
  },
  {
   "cell_type": "code",
   "execution_count": null,
   "metadata": {},
   "outputs": [
    {
     "name": "stdout",
     "output_type": "stream",
     "text": [
      "[1, 2, 3, 4, 5, 6, 7, 8]\n"
     ]
    }
   ],
   "source": [
    "l=[1,2,3,2,4,4,4,5,5,6,6,6,6,7,8]\n",
    "set1=list(set(l))#first convert list in set and then convert in list\n",
    "print(set1)"
   ]
  },
  {
   "cell_type": "markdown",
   "metadata": {},
   "source": [
    "#Methods\n",
    "\n",
    ".set.add()\n",
    "\n",
    ".set.remove()\n",
    "\n",
    ".set.discard()\n",
    "\n",
    ".set.clear()\n",
    "\n",
    ".set.pop()"
   ]
  },
  {
   "cell_type": "code",
   "execution_count": null,
   "metadata": {},
   "outputs": [
    {
     "name": "stdout",
     "output_type": "stream",
     "text": [
      "set()\n"
     ]
    }
   ],
   "source": [
    "set1={1,2,3,4,5,6,6}\n",
    "# set1.add(9)#add item in list\n",
    "# set1.remove(2)#it remove only the item which present in list.if we write any number which not present in the set it give error.\n",
    "# set1.discard(10)#now 10 is not present in the set it not give error like remove method it return the set without error and remove anything\n",
    "# set1.pop()#it remove random element\n",
    "set1.clear()#it clear the set\n",
    "print(set1)"
   ]
  },
  {
   "cell_type": "markdown",
   "metadata": {},
   "source": [
    ".in keyword in sets and for loop in sets"
   ]
  },
  {
   "cell_type": "code",
   "execution_count": null,
   "metadata": {},
   "outputs": [
    {
     "name": "stdout",
     "output_type": "stream",
     "text": [
      "present\n",
      "c\n",
      "b\n",
      "a\n"
     ]
    }
   ],
   "source": [
    "s={'a','b','c'}\n",
    "if 'a' in s:\n",
    "    print('present')\n",
    "else:\n",
    "    print('not present')\n",
    "\n",
    "for items in s:\n",
    "    print(items)#set is unoredered collection of items so order can be change"
   ]
  },
  {
   "cell_type": "markdown",
   "metadata": {},
   "source": [
    "#set math\n",
    "\n",
    ".set.union() or | \n",
    "\n",
    ".set.intersection() or &"
   ]
  },
  {
   "cell_type": "code",
   "execution_count": 19,
   "metadata": {},
   "outputs": [
    {
     "name": "stdout",
     "output_type": "stream",
     "text": [
      "{1, 2, 3, 4, 40, 9}\n",
      "{2, 3}\n"
     ]
    }
   ],
   "source": [
    "set1={1,2,3,4}\n",
    "set2={9,2,3,40}\n",
    "print(set1|set2)\n",
    "print(set1&set2)"
   ]
  }
 ],
 "metadata": {
  "kernelspec": {
   "display_name": "Python 3",
   "language": "python",
   "name": "python3"
  },
  "language_info": {
   "codemirror_mode": {
    "name": "ipython",
    "version": 3
   },
   "file_extension": ".py",
   "mimetype": "text/x-python",
   "name": "python",
   "nbconvert_exporter": "python",
   "pygments_lexer": "ipython3",
   "version": "3.8.8"
  }
 },
 "nbformat": 4,
 "nbformat_minor": 2
}
