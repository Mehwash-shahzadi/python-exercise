{
 "cells": [
  {
   "cell_type": "markdown",
   "metadata": {},
   "source": [
    "#exercise 1"
   ]
  },
  {
   "cell_type": "markdown",
   "metadata": {},
   "source": [
    "make a variable like winning_number and assign any value to it.\n",
    "\n",
    "ask user to guess  a number \n",
    "\n",
    "if user gussed correctly then print  \" YOU WIN!!!!\"\n",
    "\n",
    "if user did't guess correctly then:\n",
    "\n",
    "if user guessed lower then actual number then print \" too low\"\n",
    "\n",
    "if user guessed lower then actual number then print \" too high\"\n"
   ]
  },
  {
   "cell_type": "code",
   "execution_count": 12,
   "metadata": {},
   "outputs": [
    {
     "name": "stdout",
     "output_type": "stream",
     "text": [
      "YOU WIN!\n"
     ]
    }
   ],
   "source": [
    "winning_number=8\n",
    "try:\n",
    "    guess_number=int(input(\"guess number:\"))\n",
    "    if guess_number==winning_number:\n",
    "        print('YOU WIN!')\n",
    "    else:\n",
    "        if guess_number<winning_number:\n",
    "            print('guess too low')\n",
    "        else:\n",
    "            print('guess too high')\n",
    "except ValueError:\n",
    "    print('invalid input')"
   ]
  },
  {
   "cell_type": "markdown",
   "metadata": {},
   "source": [
    "\"how generate random number in python \" to genenrate random number"
   ]
  },
  {
   "cell_type": "code",
   "execution_count": 9,
   "metadata": {},
   "outputs": [
    {
     "name": "stdout",
     "output_type": "stream",
     "text": [
      "guess too high\n"
     ]
    }
   ],
   "source": [
    "import random\n",
    "winning_number=random.randint(1,100)\n",
    "try:\n",
    "    guess_number=int(input(\"guess number:\"))\n",
    "    if guess_number==winning_number:\n",
    "        print('YOU WIN!')\n",
    "    else:\n",
    "        if guess_number<winning_number:\n",
    "            print('guess too low')\n",
    "        else:\n",
    "            print('guess too high')\n",
    "except ValueError:\n",
    "    print('invalid input')"
   ]
  }
 ],
 "metadata": {
  "kernelspec": {
   "display_name": "Python 3",
   "language": "python",
   "name": "python3"
  },
  "language_info": {
   "codemirror_mode": {
    "name": "ipython",
    "version": 3
   },
   "file_extension": ".py",
   "mimetype": "text/x-python",
   "name": "python",
   "nbconvert_exporter": "python",
   "pygments_lexer": "ipython3",
   "version": "3.8.8"
  }
 },
 "nbformat": 4,
 "nbformat_minor": 2
}
