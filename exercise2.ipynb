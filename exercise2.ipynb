{
 "cells": [
  {
   "cell_type": "markdown",
   "metadata": {},
   "source": [
    "Question#1 ask user to input 3 numbers and you have to print average of three numbers using string formating.\n"
   ]
  },
  {
   "cell_type": "code",
   "execution_count": 9,
   "metadata": {},
   "outputs": [
    {
     "name": "stdout",
     "output_type": "stream",
     "text": [
      "average is equal to:4.0\n"
     ]
    }
   ],
   "source": [
    "number1,number2,number3=input(\"enter the number:\").split(',')\n",
    "print(f\"average is equal to:{(int(number1)+int(number2)+int(number3))/3}\")"
   ]
  },
  {
   "cell_type": "markdown",
   "metadata": {},
   "source": [
    "Second Method\n"
   ]
  },
  {
   "cell_type": "code",
   "execution_count": 10,
   "metadata": {},
   "outputs": [
    {
     "name": "stdout",
     "output_type": "stream",
     "text": [
      "average:4.0\n"
     ]
    }
   ],
   "source": [
    "number=list(map(int,input(\"enter the number:\").split()))\n",
    "print(f\"average:{(sum(number))/len(number)}\")"
   ]
  },
  {
   "cell_type": "markdown",
   "metadata": {},
   "source": [
    "Question#2 ask user name and print back user name in reverse order."
   ]
  },
  {
   "cell_type": "code",
   "execution_count": 3,
   "metadata": {},
   "outputs": [
    {
     "name": "stdout",
     "output_type": "stream",
     "text": [
      "user name:hsawhem\n"
     ]
    }
   ],
   "source": [
    "name=input(\"enter the user name:\")\n",
    "print(f\"user name:{name[::-1]}\")"
   ]
  },
  {
   "cell_type": "markdown",
   "metadata": {},
   "source": [
    "Question#3 take two comma separated inputs from user,\n",
    "1.) user name\n",
    "2.) single character\n",
    "   output: print user name length, count the character the user inputed(case insensitive count)"
   ]
  },
  {
   "cell_type": "code",
   "execution_count": 2,
   "metadata": {},
   "outputs": [
    {
     "name": "stdout",
     "output_type": "stream",
     "text": [
      "length of string:6\n",
      "character in name:0\n"
     ]
    }
   ],
   "source": [
    "name,char=input(\"enter the name and character(comma separated):\").split(\",\")\n",
    "print(f\"length of string:{len(name.strip())}\")\n",
    "print(f\"character in name:{name.strip().lower().count(char.strip().lower())}\")\n"
   ]
  },
  {
   "cell_type": "markdown",
   "metadata": {},
   "source": [
    "#find() , rfind()"
   ]
  },
  {
   "cell_type": "code",
   "execution_count": 4,
   "metadata": {},
   "outputs": [
    {
     "name": "stdout",
     "output_type": "stream",
     "text": [
      "2\n",
      "33\n",
      "this was beautifull and  also she was a good dancer.\n"
     ]
    }
   ],
   "source": [
    "str=\"this is beautifull and  also she is a good dancer.\"\n",
    "print(str.find('is'))\n",
    "print(str.rfind('is')) #rfind() it find the word from the right side.\n",
    "print(str.replace(' is ',' was '))"
   ]
  },
  {
   "cell_type": "markdown",
   "metadata": {},
   "source": [
    "#center() method"
   ]
  },
  {
   "cell_type": "code",
   "execution_count": 8,
   "metadata": {},
   "outputs": [
    {
     "name": "stdout",
     "output_type": "stream",
     "text": [
      "**mehwash**\n"
     ]
    }
   ],
   "source": [
    "name='mehwash'\n",
    "print(name.center(len(name)+4,'*'))"
   ]
  },
  {
   "cell_type": "markdown",
   "metadata": {},
   "source": [
    "#replace() method"
   ]
  },
  {
   "cell_type": "code",
   "execution_count": 10,
   "metadata": {},
   "outputs": [
    {
     "name": "stdout",
     "output_type": "stream",
     "text": [
      "Mehwash\n",
      "mehwash\n"
     ]
    }
   ],
   "source": [
    "name='mehwash'\n",
    "print(name.replace('m','M')) #strings are immutable.the origional string are same and when we apply replace()method or any method then they return new string \n",
    "print(name)"
   ]
  }
 ],
 "metadata": {
  "kernelspec": {
   "display_name": "Python 3",
   "language": "python",
   "name": "python3"
  },
  "language_info": {
   "codemirror_mode": {
    "name": "ipython",
    "version": 3
   },
   "file_extension": ".py",
   "mimetype": "text/x-python",
   "name": "python",
   "nbconvert_exporter": "python",
   "pygments_lexer": "ipython3",
   "version": "3.8.8"
  }
 },
 "nbformat": 4,
 "nbformat_minor": 2
}
