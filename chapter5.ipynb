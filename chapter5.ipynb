{
 "cells": [
  {
   "cell_type": "markdown",
   "metadata": {},
   "source": [
    "#LIST : Collection of same and different types of items."
   ]
  },
  {
   "cell_type": "markdown",
   "metadata": {},
   "source": [
    "#Add items in list\n",
    "\n",
    ".  li.append() method\n",
    "\n",
    ".  li.insert(idx,ele) method\n",
    "\n",
    ".  concatenate two list\n",
    "\n",
    ".  li1.extend(li2) method"
   ]
  },
  {
   "cell_type": "code",
   "execution_count": 2,
   "metadata": {},
   "outputs": [
    {
     "name": "stdout",
     "output_type": "stream",
     "text": [
      "['mango', 'apple', 'grapes']\n"
     ]
    }
   ],
   "source": [
    "fruit=['mango','apple']\n",
    "fruit.append('grapes')\n",
    "print(fruit)"
   ]
  },
  {
   "cell_type": "code",
   "execution_count": 3,
   "metadata": {},
   "outputs": [
    {
     "name": "stdout",
     "output_type": "stream",
     "text": [
      "['mango', 'banana', 'apple']\n"
     ]
    }
   ],
   "source": [
    "fruit=['mango','apple']\n",
    "fruit.insert(1,'banana')\n",
    "print(fruit)"
   ]
  },
  {
   "cell_type": "code",
   "execution_count": 4,
   "metadata": {},
   "outputs": [
    {
     "name": "stdout",
     "output_type": "stream",
     "text": [
      "['mango', 'banana', 'apple', 'mango', 'banana', 'apple']\n"
     ]
    }
   ],
   "source": [
    "fruit1=['mango','apple']\n",
    "fruit2=['kiwi','pear']\n",
    "fruits=fruit+fruit\n",
    "print(fruits)"
   ]
  },
  {
   "cell_type": "code",
   "execution_count": 9,
   "metadata": {},
   "outputs": [
    {
     "name": "stdout",
     "output_type": "stream",
     "text": [
      "['mango', 'apple', 'kiwi', 'pear']\n"
     ]
    }
   ],
   "source": [
    "fruit1=['mango','apple']\n",
    "fruit2=['kiwi','pear']\n",
    "fruit1.extend(fruit2)\n",
    "print(fruit1)"
   ]
  },
  {
   "cell_type": "markdown",
   "metadata": {},
   "source": [
    "#Delete data from list\n",
    "\n",
    ".  li.pop() method\n",
    "\n",
    ".  li.remove() method\n",
    "\n",
    ".  del keyword\n",
    "\n",
    ".  li.clear() method"
   ]
  },
  {
   "cell_type": "code",
   "execution_count": null,
   "metadata": {},
   "outputs": [
    {
     "name": "stdout",
     "output_type": "stream",
     "text": [
      "['apple']\n"
     ]
    }
   ],
   "source": [
    "fruit=['mango','apple']\n",
    "fruit.pop(0)#pass argument\n",
    "fruit.pop()\n",
    "print(fruit)"
   ]
  },
  {
   "cell_type": "code",
   "execution_count": 6,
   "metadata": {},
   "outputs": [
    {
     "name": "stdout",
     "output_type": "stream",
     "text": [
      "['mango']\n"
     ]
    }
   ],
   "source": [
    "fruit=['mango','apple']\n",
    "fruit.remove('apple')#pass argument\n",
    "print(fruit)"
   ]
  },
  {
   "cell_type": "code",
   "execution_count": 8,
   "metadata": {},
   "outputs": [
    {
     "name": "stdout",
     "output_type": "stream",
     "text": [
      "['apple']\n"
     ]
    }
   ],
   "source": [
    "fruit=['mango','apple']\n",
    "del fruit[0]\n",
    "print(fruit)"
   ]
  },
  {
   "cell_type": "code",
   "execution_count": 11,
   "metadata": {},
   "outputs": [
    {
     "name": "stdout",
     "output_type": "stream",
     "text": [
      "present in list\n"
     ]
    }
   ],
   "source": [
    "fruit=['mango','apple','kiwi','grapes','banana','apple']\n",
    "if 'apple' in fruit:\n",
    "    print(f'present in list')\n",
    "else:\n",
    "    print(f'not present')\n",
    "\n"
   ]
  },
  {
   "cell_type": "markdown",
   "metadata": {},
   "source": [
    "#other methods\n",
    "\n",
    ".count\n",
    "\n",
    ".sort method\n",
    "\n",
    ".sorted funcion\n",
    "\n",
    ".reverse\n",
    "\n",
    ".copy"
   ]
  },
  {
   "cell_type": "code",
   "execution_count": 13,
   "metadata": {},
   "outputs": [
    {
     "name": "stdout",
     "output_type": "stream",
     "text": [
      "2\n"
     ]
    }
   ],
   "source": [
    "fruit=['mango','apple','mango','banana','apple']\n",
    "print(fruit.count('apple'))\n"
   ]
  },
  {
   "cell_type": "code",
   "execution_count": 19,
   "metadata": {},
   "outputs": [
    {
     "name": "stdout",
     "output_type": "stream",
     "text": [
      "[2, 4, 6, 9, 10, 21, 34]\n"
     ]
    }
   ],
   "source": [
    "number=[10,2,4,6,9,34,21]\n",
    "number.sort()\n",
    "print(number)"
   ]
  },
  {
   "cell_type": "code",
   "execution_count": 17,
   "metadata": {},
   "outputs": [
    {
     "name": "stdout",
     "output_type": "stream",
     "text": [
      "[2, 4, 6, 9, 10, 21, 34]\n"
     ]
    }
   ],
   "source": [
    "number=[10,2,4,6,9,34,21]\n",
    "print(sorted(number))"
   ]
  },
  {
   "cell_type": "markdown",
   "metadata": {},
   "source": [
    "'is' vs =="
   ]
  },
  {
   "cell_type": "code",
   "execution_count": null,
   "metadata": {},
   "outputs": [
    {
     "name": "stdout",
     "output_type": "stream",
     "text": [
      "True\n",
      "False\n"
     ]
    }
   ],
   "source": [
    "fruit1=['mango','kiwi','pear','grapes',]\n",
    "fruit2=['mango','kiwi','pear','grapes']\n",
    "print(fruit1==fruit2)#compare the items in the list are same or not if lists have same items it return True otherwise False\n",
    "print(fruit1 is fruit2)#(is) check the lists are present in same memory.this compare the ID'S of object"
   ]
  },
  {
   "cell_type": "markdown",
   "metadata": {},
   "source": [
    "#split() method: convert string to list"
   ]
  },
  {
   "cell_type": "code",
   "execution_count": 15,
   "metadata": {},
   "outputs": [
    {
     "data": {
      "text/plain": [
       "['milk', 'fruit', 'water', 'grapes']"
      ]
     },
     "execution_count": 15,
     "metadata": {},
     "output_type": "execute_result"
    }
   ],
   "source": [
    "name='milk>fruit>water>grapes'\n",
    "name.split('>')\n"
   ]
  },
  {
   "cell_type": "markdown",
   "metadata": {},
   "source": [
    "#join() method:convert list to string"
   ]
  },
  {
   "cell_type": "code",
   "execution_count": 18,
   "metadata": {},
   "outputs": [
    {
     "name": "stdout",
     "output_type": "stream",
     "text": [
      "mehwash shahzadi\n"
     ]
    }
   ],
   "source": [
    "name=['mehwash','shahzadi']\n",
    "name2=\" \".join(name)\n",
    "print(name2)"
   ]
  },
  {
   "cell_type": "markdown",
   "metadata": {},
   "source": [
    "#Loops"
   ]
  },
  {
   "cell_type": "markdown",
   "metadata": {},
   "source": [
    "##for loop"
   ]
  },
  {
   "cell_type": "code",
   "execution_count": 21,
   "metadata": {},
   "outputs": [
    {
     "name": "stdout",
     "output_type": "stream",
     "text": [
      "apple\n",
      "banana\n",
      "kiwi\n",
      "pear\n",
      "grapes\n"
     ]
    }
   ],
   "source": [
    "fruit=['apple','banana','kiwi','pear','grapes']\n",
    "for fruits in fruit:\n",
    "    print(fruits)"
   ]
  },
  {
   "cell_type": "markdown",
   "metadata": {},
   "source": [
    "##while loop"
   ]
  },
  {
   "cell_type": "code",
   "execution_count": 26,
   "metadata": {},
   "outputs": [
    {
     "name": "stdout",
     "output_type": "stream",
     "text": [
      "apple\n",
      "banana\n",
      "kiwi\n",
      "pear\n",
      "grapes\n"
     ]
    }
   ],
   "source": [
    "fruit=['apple','banana','kiwi','pear','grapes']\n",
    "i=0\n",
    "while i<len(fruit):\n",
    "    print(fruit[i])\n",
    "    i+=1"
   ]
  },
  {
   "cell_type": "markdown",
   "metadata": {},
   "source": [
    "#list inside list"
   ]
  },
  {
   "cell_type": "code",
   "execution_count": null,
   "metadata": {},
   "outputs": [
    {
     "name": "stdout",
     "output_type": "stream",
     "text": [
      "1\n",
      "2\n",
      "3\n",
      "4\n",
      "5\n",
      "6\n",
      "7\n",
      "8\n",
      "9\n",
      "5\n"
     ]
    }
   ],
   "source": [
    "matrix=[[1,2,3],[4,5,6],[7,8,9]]#2d list\n",
    "for sublist in matrix:\n",
    "    for i in sublist:\n",
    "        print(i)\n",
    "\n",
    "# print(matrix[1][1])#output:5"
   ]
  },
  {
   "cell_type": "markdown",
   "metadata": {},
   "source": [
    "#more about list \n",
    "\n",
    ". generate list with range function\n",
    "\n",
    ".more about pop() method\n",
    "\n",
    ".index() method\n",
    "\n",
    ".pass list to a function"
   ]
  },
  {
   "cell_type": "code",
   "execution_count": 30,
   "metadata": {},
   "outputs": [
    {
     "name": "stdout",
     "output_type": "stream",
     "text": [
      "[1, 2, 3, 4, 5, 6, 7, 8, 9, 10]\n"
     ]
    }
   ],
   "source": [
    "numbers=list(range(1,11))\n",
    "print(numbers)"
   ]
  },
  {
   "cell_type": "code",
   "execution_count": null,
   "metadata": {},
   "outputs": [
    {
     "name": "stdout",
     "output_type": "stream",
     "text": [
      "10\n",
      "[1, 2, 3, 4, 5, 6, 7, 8, 9]\n"
     ]
    }
   ],
   "source": [
    "numbers=list(range(1,11))\n",
    "print(numbers.pop())#pop() method also return the value which we delete\n",
    "print(numbers)\n"
   ]
  },
  {
   "cell_type": "code",
   "execution_count": 34,
   "metadata": {},
   "outputs": [
    {
     "name": "stdout",
     "output_type": "stream",
     "text": [
      "0\n"
     ]
    }
   ],
   "source": [
    "numbers=list(range(1,11))\n",
    "print(numbers.index(1))"
   ]
  },
  {
   "cell_type": "code",
   "execution_count": 35,
   "metadata": {},
   "outputs": [
    {
     "name": "stdout",
     "output_type": "stream",
     "text": [
      "[-1, -2, -3, -4, -5, -6, -7, -8, -9]\n"
     ]
    }
   ],
   "source": [
    "def negative_list(l):\n",
    "    negative=[]\n",
    "    for i in l:\n",
    "        negative.append(-i)\n",
    "    return negative\n",
    "l=[1,2,3,4,5,6,7,8,9]\n",
    "result=negative_list(l)\n",
    "print(result)"
   ]
  },
  {
   "cell_type": "markdown",
   "metadata": {},
   "source": [
    "#EXERCISE"
   ]
  },
  {
   "cell_type": "markdown",
   "metadata": {},
   "source": [
    "Question#1 define a function which will take list containing number as input and return list containing square of every elements.\n",
    "\n",
    "numbers=[1,2,3,4]output:[1,4,9,16]"
   ]
  },
  {
   "cell_type": "code",
   "execution_count": 44,
   "metadata": {},
   "outputs": [
    {
     "name": "stdout",
     "output_type": "stream",
     "text": [
      "[1, 4, 9, 16, 25]\n"
     ]
    }
   ],
   "source": [
    "def square_list(number):\n",
    "    square_number=[]\n",
    "    for i in number:\n",
    "        square_number.append(i**2)\n",
    "    return square_number\n",
    "number=[1,2,3,4,5]\n",
    "result=square_list(number)\n",
    "print(result)"
   ]
  },
  {
   "cell_type": "markdown",
   "metadata": {},
   "source": [
    "Question#3 define a function which will take list as a argument and this function will retur a reverse list.\n",
    "\n",
    "example:\n",
    "\n",
    "[1,2,3,4]..........>[4,3,2,1]"
   ]
  },
  {
   "cell_type": "code",
   "execution_count": 51,
   "metadata": {},
   "outputs": [
    {
     "name": "stdout",
     "output_type": "stream",
     "text": [
      "[4, 3, 2, 1]\n"
     ]
    }
   ],
   "source": [
    "def reverse_list(l):\n",
    "    new_list=[]\n",
    "    for i in range(len(l)):\n",
    "        number=l.pop()\n",
    "        new_list.append(number)\n",
    "    return new_list\n",
    "l=[1,2,3,4]\n",
    "print(reverse_list(l))"
   ]
  },
  {
   "cell_type": "code",
   "execution_count": null,
   "metadata": {},
   "outputs": [
    {
     "name": "stdout",
     "output_type": "stream",
     "text": [
      "[4, 3, 2, 1]\n"
     ]
    }
   ],
   "source": [
    "#by using reverse method\n",
    "def reverse_list(l):\n",
    "    l.reverse()\n",
    "    return l\n",
    "l=[1,2,3,4]\n",
    "print(reverse_list(l))"
   ]
  },
  {
   "cell_type": "code",
   "execution_count": null,
   "metadata": {},
   "outputs": [
    {
     "name": "stdout",
     "output_type": "stream",
     "text": [
      "[4, 3, 2, 1]\n"
     ]
    }
   ],
   "source": [
    "#reverse list by using slicing\n",
    "def reverse_list(l):\n",
    "    return (l[::-1])\n",
    "l=[1,2,3,4]\n",
    "print(reverse_list(l))"
   ]
  },
  {
   "cell_type": "markdown",
   "metadata": {},
   "source": [
    "Question#3 define a function that take list of words as argument and return list with reverse of every element in that list.\n",
    "\n",
    "example:\n",
    "\n",
    "['abc','tuv','xyz']...........>['cba','vut','zyx']"
   ]
  },
  {
   "cell_type": "code",
   "execution_count": 85,
   "metadata": {},
   "outputs": [
    {
     "name": "stdout",
     "output_type": "stream",
     "text": [
      "['cba', 'vut', 'zyx']\n"
     ]
    }
   ],
   "source": [
    "def reverse_elements(l):\n",
    "    elements=[]\n",
    "    for i in l:\n",
    "        elements.append(i[::-1])\n",
    "    return elements\n",
    "l=['abc','tuv','xyz']\n",
    "print(reverse_elements(l))"
   ]
  },
  {
   "cell_type": "code",
   "execution_count": null,
   "metadata": {},
   "outputs": [
    {
     "name": "stdout",
     "output_type": "stream",
     "text": [
      "cba\n",
      "vut\n",
      "zyx\n"
     ]
    }
   ],
   "source": [
    "words=['abc','tuv','xyz']\n",
    "for sublist in words:\n",
    "     print(sublist[::-1])"
   ]
  },
  {
   "cell_type": "code",
   "execution_count": null,
   "metadata": {},
   "outputs": [
    {
     "name": "stdout",
     "output_type": "stream",
     "text": [
      "cba\n",
      "vut\n",
      "zyx\n"
     ]
    }
   ],
   "source": [
    "words=['abc','tuv','xyz',]\n",
    "for sublist in words:\n",
    "    for i in range(1):\n",
    "        print(sublist[::-1])"
   ]
  },
  {
   "cell_type": "markdown",
   "metadata": {},
   "source": [
    "Question#4 filter odd even \n",
    "\n"
   ]
  },
  {
   "cell_type": "code",
   "execution_count": 86,
   "metadata": {},
   "outputs": [
    {
     "name": "stdout",
     "output_type": "stream",
     "text": [
      "[[1, 3, 5, 7, 9], [2, 4, 6, 8, 10]]\n"
     ]
    }
   ],
   "source": [
    "def filter_number(l):\n",
    "    odd_number=[]\n",
    "    even_number=[]\n",
    "    for i in l:\n",
    "        if i%2==0:\n",
    "            even_number.append(i)\n",
    "        else:\n",
    "            odd_number.append(i)\n",
    "    output=[odd_number,even_number]\n",
    "    return output\n",
    "l=[1,2,3,4,5,6,7,8,9,10]\n",
    "print(filter_number(l))"
   ]
  },
  {
   "cell_type": "markdown",
   "metadata": {},
   "source": [
    "Question#5 \n",
    "\n",
    "common elements finder function\n",
    "\n",
    "define a function which take 2 list as input and return a list\n",
    "\n",
    "which contains common elements of both lists\n",
    "\n",
    "exapmle:\n",
    "\n",
    "input........>[1,2,5,8],[1,2,7,6]\n",
    "\n",
    "output:[1,2]"
   ]
  },
  {
   "cell_type": "code",
   "execution_count": 94,
   "metadata": {},
   "outputs": [
    {
     "name": "stdout",
     "output_type": "stream",
     "text": [
      "[1, 2]\n"
     ]
    }
   ],
   "source": [
    "def element_finder(l1,l2):\n",
    "    number_list=[]\n",
    "    for i in l1:\n",
    "        if i in l2:\n",
    "            number_list.append(i)\n",
    "    return number_list\n",
    "l1=[1,2,3,4,5]\n",
    "l2=[1,2,6,7,8]\n",
    "print(element_finder(l1,l2))\n",
    "\n"
   ]
  },
  {
   "cell_type": "markdown",
   "metadata": {},
   "source": [
    "#min & max function"
   ]
  },
  {
   "cell_type": "code",
   "execution_count": null,
   "metadata": {},
   "outputs": [
    {
     "name": "stdout",
     "output_type": "stream",
     "text": [
      "67\n"
     ]
    }
   ],
   "source": [
    "l=[3,45,67,8,9,3]\n",
    "print(max(l))\n",
    "print(min(l))"
   ]
  },
  {
   "cell_type": "markdown",
   "metadata": {},
   "source": [
    "Question#6 \n",
    "\n",
    "make a function which give informtion about how many list are in existing list.\n",
    "\n",
    "[1,2,3,[1,2],[3,4]]   output=2"
   ]
  },
  {
   "cell_type": "code",
   "execution_count": null,
   "metadata": {},
   "outputs": [
    {
     "name": "stdout",
     "output_type": "stream",
     "text": [
      "[1, 2]\n",
      "[3, 4]\n",
      "2\n"
     ]
    }
   ],
   "source": [
    "number=[1,2,3,[1,2],[3,4]]\n",
    "count=0\n",
    "for i in number:\n",
    "    if type(i)==list:\n",
    "        count+=1\n",
    "print(count)"
   ]
  },
  {
   "cell_type": "code",
   "execution_count": 13,
   "metadata": {},
   "outputs": [
    {
     "name": "stdout",
     "output_type": "stream",
     "text": [
      "number of list: 2\n"
     ]
    }
   ],
   "source": [
    "def count_sublist(l):\n",
    "    count=0\n",
    "    for i in number:\n",
    "        if type(i)==list:\n",
    "           count+=1\n",
    "    return count\n",
    "number=[1,2,3,[1,2],[3,4]]\n",
    "print(f'number of list: {count_sublist(number)}')"
   ]
  },
  {
   "cell_type": "markdown",
   "metadata": {},
   "source": [
    "#input a list by using loops"
   ]
  },
  {
   "cell_type": "code",
   "execution_count": 14,
   "metadata": {},
   "outputs": [
    {
     "name": "stdout",
     "output_type": "stream",
     "text": [
      "[3, 4, 5]\n"
     ]
    }
   ],
   "source": [
    "user_input=int(input('enter the number:'))\n",
    "number=[]\n",
    "for i in range(user_input):\n",
    "    x=int(input())\n",
    "    number.append(x)\n",
    "print(number)"
   ]
  },
  {
   "cell_type": "markdown",
   "metadata": {},
   "source": [
    "#input a list using split()"
   ]
  },
  {
   "cell_type": "code",
   "execution_count": 17,
   "metadata": {},
   "outputs": [
    {
     "name": "stdout",
     "output_type": "stream",
     "text": [
      "[1, 6, 7, 8, 9]\n"
     ]
    }
   ],
   "source": [
    "user_input=input(\"enter number by comma separated:\").split(',')\n",
    "number=[]\n",
    "for i in range(len(user_input)):\n",
    "    x=int(user_input[i])\n",
    "    number.append(x)\n",
    "print(number)\n",
    "    "
   ]
  },
  {
   "cell_type": "code",
   "execution_count": 18,
   "metadata": {},
   "outputs": [],
   "source": [
    "#accept a list using split() and for loop"
   ]
  },
  {
   "cell_type": "code",
   "execution_count": 21,
   "metadata": {},
   "outputs": [
    {
     "name": "stdout",
     "output_type": "stream",
     "text": [
      "[4, 5, 6]\n"
     ]
    }
   ],
   "source": [
    "n=int(input(\"enter the number:\"))\n",
    "number=input(\"enter number(comma separated):\").split(',')\n",
    "li_number=[]\n",
    "for i in range(n):\n",
    "     x=int(number[i])\n",
    "     li_number.append(x)\n",
    "print(li_number)"
   ]
  }
 ],
 "metadata": {
  "kernelspec": {
   "display_name": "Python 3",
   "language": "python",
   "name": "python3"
  },
  "language_info": {
   "codemirror_mode": {
    "name": "ipython",
    "version": 3
   },
   "file_extension": ".py",
   "mimetype": "text/x-python",
   "name": "python",
   "nbconvert_exporter": "python",
   "pygments_lexer": "ipython3",
   "version": "3.8.8"
  }
 },
 "nbformat": 4,
 "nbformat_minor": 2
}
