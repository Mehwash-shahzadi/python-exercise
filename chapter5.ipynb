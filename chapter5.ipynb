{
 "cells": [
  {
   "cell_type": "markdown",
   "metadata": {},
   "source": [
    "#LIST : Collection of same and different types of items."
   ]
  },
  {
   "cell_type": "markdown",
   "metadata": {},
   "source": [
    "#Add items in list\n",
    "\n",
    ".  li.append() method\n",
    "\n",
    ".  li.insert(idx,ele) method\n",
    "\n",
    ".  concatenate two list\n",
    "\n",
    ".  li1.extend(li2) method"
   ]
  },
  {
   "cell_type": "code",
   "execution_count": 2,
   "metadata": {},
   "outputs": [
    {
     "name": "stdout",
     "output_type": "stream",
     "text": [
      "['mango', 'apple', 'grapes']\n"
     ]
    }
   ],
   "source": [
    "fruit=['mango','apple']\n",
    "fruit.append('grapes')\n",
    "print(fruit)"
   ]
  },
  {
   "cell_type": "code",
   "execution_count": 3,
   "metadata": {},
   "outputs": [
    {
     "name": "stdout",
     "output_type": "stream",
     "text": [
      "['mango', 'banana', 'apple']\n"
     ]
    }
   ],
   "source": [
    "fruit=['mango','apple']\n",
    "fruit.insert(1,'banana')\n",
    "print(fruit)"
   ]
  },
  {
   "cell_type": "code",
   "execution_count": 4,
   "metadata": {},
   "outputs": [
    {
     "name": "stdout",
     "output_type": "stream",
     "text": [
      "['mango', 'banana', 'apple', 'mango', 'banana', 'apple']\n"
     ]
    }
   ],
   "source": [
    "fruit1=['mango','apple']\n",
    "fruit2=['kiwi','pear']\n",
    "fruits=fruit+fruit\n",
    "print(fruits)"
   ]
  },
  {
   "cell_type": "code",
   "execution_count": 9,
   "metadata": {},
   "outputs": [
    {
     "name": "stdout",
     "output_type": "stream",
     "text": [
      "['mango', 'apple', 'kiwi', 'pear']\n"
     ]
    }
   ],
   "source": [
    "fruit1=['mango','apple']\n",
    "fruit2=['kiwi','pear']\n",
    "fruit1.extend(fruit2)\n",
    "print(fruit1)"
   ]
  },
  {
   "cell_type": "markdown",
   "metadata": {},
   "source": [
    "#Delete data from list\n",
    "\n",
    ".  li.pop() method\n",
    "\n",
    ".  li.remove() method\n",
    "\n",
    ".  del keyword\n",
    "\n",
    ".  li.clear() method"
   ]
  },
  {
   "cell_type": "code",
   "execution_count": null,
   "metadata": {},
   "outputs": [
    {
     "name": "stdout",
     "output_type": "stream",
     "text": [
      "['apple']\n"
     ]
    }
   ],
   "source": [
    "fruit=['mango','apple']\n",
    "fruit.pop(0)#pass argument\n",
    "fruit.pop()\n",
    "print(fruit)"
   ]
  },
  {
   "cell_type": "code",
   "execution_count": 6,
   "metadata": {},
   "outputs": [
    {
     "name": "stdout",
     "output_type": "stream",
     "text": [
      "['mango']\n"
     ]
    }
   ],
   "source": [
    "fruit=['mango','apple']\n",
    "fruit.remove('apple')#pass argument\n",
    "print(fruit)"
   ]
  },
  {
   "cell_type": "code",
   "execution_count": 8,
   "metadata": {},
   "outputs": [
    {
     "name": "stdout",
     "output_type": "stream",
     "text": [
      "['apple']\n"
     ]
    }
   ],
   "source": [
    "fruit=['mango','apple']\n",
    "del fruit[0]\n",
    "print(fruit)"
   ]
  },
  {
   "cell_type": "code",
   "execution_count": 11,
   "metadata": {},
   "outputs": [
    {
     "name": "stdout",
     "output_type": "stream",
     "text": [
      "present in list\n"
     ]
    }
   ],
   "source": [
    "fruit=['mango','apple','kiwi','grapes','banana','apple']\n",
    "if 'apple' in fruit:\n",
    "    print(f'present in list')\n",
    "else:\n",
    "    print(f'not present')\n",
    "\n"
   ]
  },
  {
   "cell_type": "markdown",
   "metadata": {},
   "source": [
    "#other methods\n",
    "\n",
    ".count\n",
    "\n",
    ".sort method\n",
    "\n",
    ".sorted funcion\n",
    "\n",
    ".reverse\n",
    "\n",
    ".copy"
   ]
  },
  {
   "cell_type": "code",
   "execution_count": 13,
   "metadata": {},
   "outputs": [
    {
     "name": "stdout",
     "output_type": "stream",
     "text": [
      "2\n"
     ]
    }
   ],
   "source": [
    "fruit=['mango','apple','mango','banana','apple']\n",
    "print(fruit.count('apple'))\n"
   ]
  },
  {
   "cell_type": "code",
   "execution_count": 19,
   "metadata": {},
   "outputs": [
    {
     "name": "stdout",
     "output_type": "stream",
     "text": [
      "[2, 4, 6, 9, 10, 21, 34]\n"
     ]
    }
   ],
   "source": [
    "number=[10,2,4,6,9,34,21]\n",
    "number.sort()\n",
    "print(number)"
   ]
  },
  {
   "cell_type": "code",
   "execution_count": 17,
   "metadata": {},
   "outputs": [
    {
     "name": "stdout",
     "output_type": "stream",
     "text": [
      "[2, 4, 6, 9, 10, 21, 34]\n"
     ]
    }
   ],
   "source": [
    "number=[10,2,4,6,9,34,21]\n",
    "print(sorted(number))"
   ]
  }
 ],
 "metadata": {
  "kernelspec": {
   "display_name": "Python 3",
   "language": "python",
   "name": "python3"
  },
  "language_info": {
   "codemirror_mode": {
    "name": "ipython",
    "version": 3
   },
   "file_extension": ".py",
   "mimetype": "text/x-python",
   "name": "python",
   "nbconvert_exporter": "python",
   "pygments_lexer": "ipython3",
   "version": "3.8.8"
  }
 },
 "nbformat": 4,
 "nbformat_minor": 2
}
