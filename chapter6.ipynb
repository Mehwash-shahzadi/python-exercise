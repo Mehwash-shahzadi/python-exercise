{
 "cells": [
  {
   "cell_type": "markdown",
   "metadata": {},
   "source": [
    "#Tuple\n",
    "\n",
    ".immuteable(no pop,no append,no remove,no insert)these are used for fixed data.like days of week\n",
    "\n",
    ".tuples are more faster than list"
   ]
  },
  {
   "cell_type": "code",
   "execution_count": 9,
   "metadata": {},
   "outputs": [
    {
     "name": "stdout",
     "output_type": "stream",
     "text": [
      "<class 'tuple'>\n",
      "(1, 2, 3, 4, 5, 6, 7, 8, 9, 10)\n"
     ]
    }
   ],
   "source": [
    "n=(1,)#when we 1 value then comma is necessary without comma its not a tuple.\n",
    "print(type(n))\n",
    "number=tuple(range(1,11))\n",
    "print(number)"
   ]
  },
  {
   "cell_type": "code",
   "execution_count": 10,
   "metadata": {},
   "outputs": [
    {
     "name": "stdout",
     "output_type": "stream",
     "text": [
      "<class 'tuple'>\n"
     ]
    }
   ],
   "source": [
    "name='mehwash','maheen','mobeen','ali' #when we write in this way its by default will be a tuple.\n",
    "print(type(name))"
   ]
  },
  {
   "cell_type": "markdown",
   "metadata": {},
   "source": [
    ".paking means assigning values to a tuple.\n",
    "\n",
    ".unpacking value means extracting value of a tuple."
   ]
  },
  {
   "cell_type": "code",
   "execution_count": 11,
   "metadata": {},
   "outputs": [
    {
     "name": "stdout",
     "output_type": "stream",
     "text": [
      "Audi BMW Mercedes\n"
     ]
    }
   ],
   "source": [
    "cars=('Audi','BMW','Mercedes')\n",
    "car1,car2,car3=cars\n",
    "print(car1,car2,car3)"
   ]
  },
  {
   "cell_type": "markdown",
   "metadata": {},
   "source": [
    "#use of * asterisk\n",
    "\n",
    ".used when the no.of variable are less than the value of tuple."
   ]
  },
  {
   "cell_type": "code",
   "execution_count": 12,
   "metadata": {},
   "outputs": [
    {
     "name": "stdout",
     "output_type": "stream",
     "text": [
      "Audi ['BMW', 'Mercedes'] corola\n"
     ]
    }
   ],
   "source": [
    "cars=('Audi','BMW','Mercedes','corola')\n",
    "car1,*car2,car3=cars\n",
    "print(car1,car2,car3)"
   ]
  },
  {
   "cell_type": "code",
   "execution_count": 13,
   "metadata": {},
   "outputs": [
    {
     "name": "stdout",
     "output_type": "stream",
     "text": [
      "Audi BMW ['Mercedes']\n"
     ]
    }
   ],
   "source": [
    "cars=('Audi','BMW','Mercedes')\n",
    "car1,car2,*car3=cars\n",
    "print(car1,car2,car3)"
   ]
  },
  {
   "cell_type": "code",
   "execution_count": null,
   "metadata": {},
   "outputs": [
    {
     "name": "stdout",
     "output_type": "stream",
     "text": [
      "(1, 2, 3, [3, 5, 6, 7, 8])\n"
     ]
    }
   ],
   "source": [
    "number=(1,2,3,[3,4,5,6,7])#tuple are immutable but in list we append and pop items.\n",
    "number[3].append(8)\n",
    "number[3].pop(1)\n",
    "print(number)\n"
   ]
  },
  {
   "cell_type": "markdown",
   "metadata": {},
   "source": [
    "#function returning two values"
   ]
  },
  {
   "cell_type": "code",
   "execution_count": 20,
   "metadata": {},
   "outputs": [
    {
     "name": "stdout",
     "output_type": "stream",
     "text": [
      "sum:7\n",
      "multiply:12\n"
     ]
    }
   ],
   "source": [
    "def add_multiply(num1,num2):\n",
    "    sum=num1+num2\n",
    "    multiply=num1*num2\n",
    "    return sum,multiply#when we call function it give us value in tuple form.if we want value separately then we assign variable to tuple\n",
    "add,multiply=add_multiply(3,4)\n",
    "print(f'sum:{add}')\n",
    "print(f'multiply:{multiply}')"
   ]
  },
  {
   "cell_type": "markdown",
   "metadata": {},
   "source": [
    "#tuple() consttructor"
   ]
  },
  {
   "cell_type": "code",
   "execution_count": 23,
   "metadata": {},
   "outputs": [
    {
     "name": "stdout",
     "output_type": "stream",
     "text": [
      "('Audi', 'BMW')\n"
     ]
    }
   ],
   "source": [
    "cars=tuple(('Audi','BMW'))\n",
    "print(cars)"
   ]
  },
  {
   "cell_type": "markdown",
   "metadata": {},
   "source": [
    "#Adding items to a tuple."
   ]
  },
  {
   "cell_type": "code",
   "execution_count": null,
   "metadata": {},
   "outputs": [
    {
     "name": "stdout",
     "output_type": "stream",
     "text": [
      "['Audi', 'Mercedes', 'BMW', 'Toyota']\n",
      "('Audi', 'Mercedes', 'BMW', 'Toyota')\n"
     ]
    }
   ],
   "source": [
    "cars=('Audi','Mercedes','BMW')#not possible to directly add items to a tuple because tuple are immuteable.\n",
    "temp=list(cars)#add and remove items in tuple first convert tuple into list then we append and pop items.\n",
    "temp.append('Toyota')\n",
    "print(temp)\n",
    "car=tuple(temp)#now convert a list into tuple\n",
    "print(car)"
   ]
  }
 ],
 "metadata": {
  "kernelspec": {
   "display_name": "Python 3",
   "language": "python",
   "name": "python3"
  },
  "language_info": {
   "codemirror_mode": {
    "name": "ipython",
    "version": 3
   },
   "file_extension": ".py",
   "mimetype": "text/x-python",
   "name": "python",
   "nbconvert_exporter": "python",
   "pygments_lexer": "ipython3",
   "version": "3.8.8"
  }
 },
 "nbformat": 4,
 "nbformat_minor": 2
}
