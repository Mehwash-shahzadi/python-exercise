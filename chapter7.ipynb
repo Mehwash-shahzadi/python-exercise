{
 "cells": [
  {
   "cell_type": "markdown",
   "metadata": {},
   "source": [
    "#Dictionary"
   ]
  },
  {
   "cell_type": "markdown",
   "metadata": {},
   "source": [
    ".Access values using key names and get() value"
   ]
  },
  {
   "cell_type": "code",
   "execution_count": null,
   "metadata": {},
   "outputs": [
    {
     "name": "stdout",
     "output_type": "stream",
     "text": [
      "21\n",
      "mehwash\n"
     ]
    }
   ],
   "source": [
    "user_info={'name':'mehwash','age':21,'favourite_color':'black'}\n",
    "print(user_info['age'])#access value using key names\n",
    "print(user_info.get('name'))#Access values using get() methods\n"
   ]
  },
  {
   "cell_type": "markdown",
   "metadata": {},
   "source": [
    ".how access all keys of dictionary\n",
    "\n",
    ". keys() method"
   ]
  },
  {
   "cell_type": "code",
   "execution_count": 4,
   "metadata": {},
   "outputs": [
    {
     "name": "stdout",
     "output_type": "stream",
     "text": [
      "dict_keys(['name', 'age', 'favourite_color'])\n"
     ]
    }
   ],
   "source": [
    "user_info={'name':'mehwash','age':21,'favourite_color':'black'}\n",
    "print(user_info.keys())"
   ]
  },
  {
   "cell_type": "markdown",
   "metadata": {},
   "source": [
    ".how access all values of dictionary\n",
    "\n",
    ".values() method"
   ]
  },
  {
   "cell_type": "code",
   "execution_count": 6,
   "metadata": {},
   "outputs": [
    {
     "name": "stdout",
     "output_type": "stream",
     "text": [
      "dict_values(['mehwash', 21, 'black'])\n"
     ]
    }
   ],
   "source": [
    "user_info={'name':'mehwash','age':21,'favourite_color':'black'}\n",
    "print(user_info.values())"
   ]
  },
  {
   "cell_type": "markdown",
   "metadata": {},
   "source": [
    ".how access all items of dictionary\n",
    "\n",
    ".items() method"
   ]
  },
  {
   "cell_type": "code",
   "execution_count": 7,
   "metadata": {},
   "outputs": [
    {
     "name": "stdout",
     "output_type": "stream",
     "text": [
      "dict_items([('name', 'mehwash'), ('age', 21), ('favourite_color', 'black')])\n"
     ]
    }
   ],
   "source": [
    "user_info={'name':'mehwash','age':21,'favourite_color':'black'}\n",
    "print(user_info.items())"
   ]
  },
  {
   "cell_type": "markdown",
   "metadata": {},
   "source": [
    ".check if key exist in dictionary"
   ]
  },
  {
   "cell_type": "code",
   "execution_count": 9,
   "metadata": {},
   "outputs": [
    {
     "name": "stdout",
     "output_type": "stream",
     "text": [
      "present\n"
     ]
    }
   ],
   "source": [
    "user_info = {\n",
    "    'name':'mehwash',\n",
    "    'age':21,\n",
    "    'fav_movies':['janwar','kbhi kushi kbhi gmm'],\n",
    "    'fav_tunes':['awakening','fairy tail']\n",
    "}\n",
    "if 'name' in user_info:\n",
    "    print('present')\n",
    "else:\n",
    "    print('not present')"
   ]
  },
  {
   "cell_type": "markdown",
   "metadata": {},
   "source": [
    ".check value exist in a dictionary"
   ]
  },
  {
   "cell_type": "code",
   "execution_count": null,
   "metadata": {},
   "outputs": [
    {
     "name": "stdout",
     "output_type": "stream",
     "text": [
      "present\n",
      "present\n"
     ]
    }
   ],
   "source": [
    "user_info = {\n",
    "    'name':'mehwash',\n",
    "    'age':21,\n",
    "    'fav_movies':['janwar','kbhi kushi kbhi gmm'],\n",
    "    'fav_tunes':['awakening','fairy tail']\n",
    "}\n",
    "if 'mehwash' in user_info.values():#we can also check keys for this we write user_info.keys()\n",
    "    print('present')\n",
    "else:\n",
    "    ('not present')\n",
    "if  ['janwar','kbhi kushi kbhi gmm'] in user_info.values():\n",
    "    print('present')\n",
    "else:\n",
    "    ('not present')\n"
   ]
  },
  {
   "cell_type": "markdown",
   "metadata": {},
   "source": [
    "#Loops in dictionary"
   ]
  },
  {
   "cell_type": "code",
   "execution_count": 20,
   "metadata": {},
   "outputs": [
    {
     "name": "stdout",
     "output_type": "stream",
     "text": [
      "key is name and vaue is mehwash\n",
      "key is age and vaue is 21\n",
      "key is fav_movies and vaue is ['janwar', 'kbhi kushi kbhi gmm']\n",
      "key is fav_tunes and vaue is ['awakening', 'fairy tail']\n"
     ]
    }
   ],
   "source": [
    "user_info = {\n",
    "    'name':'mehwash',\n",
    "    'age':21,\n",
    "    'fav_movies':['janwar','kbhi kushi kbhi gmm'],\n",
    "    'fav_tunes':['awakening','fairy tail']\n",
    "}\n",
    "# for i in user_info:\n",
    "#     print(f'{i}:{user_info[i]}')\n",
    "for key,value in user_info.items():\n",
    "    print(f'key is {key} and vaue is {value}')"
   ]
  },
  {
   "cell_type": "markdown",
   "metadata": {},
   "source": [
    "#how add item in dictionary"
   ]
  },
  {
   "cell_type": "code",
   "execution_count": 21,
   "metadata": {},
   "outputs": [
    {
     "name": "stdout",
     "output_type": "stream",
     "text": [
      "{'name': 'mehwash', 'age': 21, 'fav_movies': ['janwar', 'kbhi kushi kbhi gmm'], 'fav_tunes': ['awakening', 'fairy tail'], 'fav_song': ['song1']}\n"
     ]
    }
   ],
   "source": [
    "user_info = {\n",
    "    'name':'mehwash',\n",
    "    'age':21,\n",
    "    'fav_movies':['janwar','kbhi kushi kbhi gmm'],\n",
    "    'fav_tunes':['awakening','fairy tail']\n",
    "}\n",
    "user_info['fav_song']=['song1']\n",
    "print(user_info)"
   ]
  },
  {
   "cell_type": "markdown",
   "metadata": {},
   "source": [
    "#how delete item from a dictionary\n",
    "\n",
    ".pop () method\n",
    "\n",
    ".popitem()\n"
   ]
  },
  {
   "cell_type": "code",
   "execution_count": 25,
   "metadata": {},
   "outputs": [
    {
     "name": "stdout",
     "output_type": "stream",
     "text": [
      "{'name': 'mehwash', 'age': 21, 'fav_movies': ['janwar', 'kbhi kushi kbhi gmm']}\n"
     ]
    }
   ],
   "source": [
    "user_info = {\n",
    "    'name':'mehwash',\n",
    "    'age':21,\n",
    "    'fav_movies':['janwar','kbhi kushi kbhi gmm'],\n",
    "    'fav_tunes':['awakening','fairy tail']\n",
    "}\n",
    "# user_info.pop('name')#if we not give argument then an error occour so, argument is necessary.\n",
    "# print(user_info)\n",
    "user_info.popitem()#it remove ranodomly.\n",
    "print(user_info)"
   ]
  },
  {
   "cell_type": "markdown",
   "metadata": {},
   "source": [
    ".update() method"
   ]
  },
  {
   "cell_type": "code",
   "execution_count": 26,
   "metadata": {},
   "outputs": [
    {
     "name": "stdout",
     "output_type": "stream",
     "text": [
      "{'name': 'mehwash', 'age': 21, 'fav_movies': ['janwar', 'kbhi kushi kbhi gmm'], 'fav_tunes': ['awakening', 'fairy tail'], 'city': 'okara', 'universty': 'LCWU'}\n"
     ]
    }
   ],
   "source": [
    "user_info = {\n",
    "    'name':'mehwash',\n",
    "    'age':21,\n",
    "    'fav_movies':['janwar','kbhi kushi kbhi gmm'],\n",
    "    'fav_tunes':['awakening','fairy tail']\n",
    "}\n",
    "more_info={'city':'okara','universty':'LCWU'}\n",
    "user_info.update(more_info)\n",
    "print(user_info)"
   ]
  },
  {
   "cell_type": "markdown",
   "metadata": {},
   "source": [
    "#More Methods\n",
    "\n",
    ".fromkeys()  when we want to give same value to all keys.\n",
    "\n",
    ".get() method its is useful other than d[keys] method if any key not present in a dictionary it give error for this reason we use get() method\n",
    "\n",
    "."
   ]
  },
  {
   "cell_type": "code",
   "execution_count": 11,
   "metadata": {},
   "outputs": [
    {
     "name": "stdout",
     "output_type": "stream",
     "text": [
      "{'name': 'unknown', 'age': 'unknown'}\n"
     ]
    }
   ],
   "source": [
    "d=dict.fromkeys(['name','age'],'unknown')\n",
    "print(d)"
   ]
  },
  {
   "cell_type": "code",
   "execution_count": null,
   "metadata": {},
   "outputs": [
    {
     "name": "stdout",
     "output_type": "stream",
     "text": [
      "mehwash\n",
      "None\n",
      "not found!\n"
     ]
    }
   ],
   "source": [
    "d={'name':'mehwash','age':21,'city':'Okara'}\n",
    "print(d['name'])\n",
    "print(d.get('names'))#if any key not present in dictionary it return none.we can override this value \n",
    "print(d.get('names','not found!'))#now it return not found.\n",
    "#print(d['names'])#this keymethod give error to avoid this error we use get()\n"
   ]
  },
  {
   "cell_type": "markdown",
   "metadata": {},
   "source": [
    "#EXERCISE\n"
   ]
  },
  {
   "cell_type": "markdown",
   "metadata": {},
   "source": [
    "Question#1 \n",
    "\n",
    ".define a function that takes a number(n)\n",
    "\n",
    ".return a dictionary containing cube of numbers from 1 to n"
   ]
  },
  {
   "cell_type": "code",
   "execution_count": 50,
   "metadata": {},
   "outputs": [
    {
     "name": "stdout",
     "output_type": "stream",
     "text": [
      "{1: 1, 2: 8, 3: 27, 4: 64, 5: 125, 6: 216, 7: 343, 8: 512}\n"
     ]
    }
   ],
   "source": [
    "def number_cube(n):\n",
    "    temp={}\n",
    "    for i in range(1,n):\n",
    "        if i not in temp:\n",
    "            num=i**3\n",
    "            temp[i]=num\n",
    "    return temp\n",
    "print(number_cube(9))"
   ]
  },
  {
   "cell_type": "markdown",
   "metadata": {},
   "source": [
    "Question#2 word counter"
   ]
  },
  {
   "cell_type": "code",
   "execution_count": 57,
   "metadata": {},
   "outputs": [
    {
     "name": "stdout",
     "output_type": "stream",
     "text": [
      "{'m': 1, 'i': 2, 's': 1, 'h': 1}\n"
     ]
    }
   ],
   "source": [
    "def word_counter(s):\n",
    "    temp_dic={}\n",
    "    for i in s:\n",
    "        if i not in temp_dic:\n",
    "            temp_dic[i]=1\n",
    "        else:\n",
    "            temp_dic[i]+=1\n",
    "    return temp_dic\n",
    "s='mishi'\n",
    "print(word_counter(s))\n"
   ]
  },
  {
   "cell_type": "markdown",
   "metadata": {},
   "source": [
    "Question#3"
   ]
  },
  {
   "cell_type": "markdown",
   "metadata": {},
   "source": [
    "take user_input(name,age,favourite_song,movies) and add them in the dictionary."
   ]
  },
  {
   "cell_type": "code",
   "execution_count": null,
   "metadata": {},
   "outputs": [
    {
     "name": "stdout",
     "output_type": "stream",
     "text": [
      "name:mehwash\n",
      "age:21\n",
      "fav_songs:['song1', 'song2']\n",
      "fav_movies:['movie1', 'movie2']\n"
     ]
    }
   ],
   "source": [
    "name=input('enter the name:')\n",
    "age=int(input('enter the age:'))\n",
    "fav_songs=input(\"enter the songs(comma separated):\").split(',')\n",
    "fav_movies=input(\"enter the movies(comma separated):\").split(',')\n",
    "user_information={}\n",
    "user_information['name']=name\n",
    "user_information['age']=age\n",
    "user_information['fav_songs']=fav_songs\n",
    "user_information['fav_movies']=fav_movies\n",
    "for keys,value in user_information.items():\n",
    "    print(f'{keys}:{value}')\n"
   ]
  },
  {
   "cell_type": "code",
   "execution_count": 65,
   "metadata": {},
   "outputs": [
    {
     "name": "stdout",
     "output_type": "stream",
     "text": [
      "name ['mehwash']\n",
      "age ['21']\n",
      "fav_songs ['song1', 'song2']\n",
      "fav_movies ['mm', 'nn']\n"
     ]
    }
   ],
   "source": [
    "user_info=dict.fromkeys(['name','age','fav_songs','fav_movies'],'unknown')\n",
    "for i in user_info:\n",
    "    user_info[i]=input('enter the {i}(comma separated)').split()\n",
    "for k,v in user_info.items():\n",
    "    print(k,v)"
   ]
  }
 ],
 "metadata": {
  "kernelspec": {
   "display_name": "Python 3",
   "language": "python",
   "name": "python3"
  },
  "language_info": {
   "codemirror_mode": {
    "name": "ipython",
    "version": 3
   },
   "file_extension": ".py",
   "mimetype": "text/x-python",
   "name": "python",
   "nbconvert_exporter": "python",
   "pygments_lexer": "ipython3",
   "version": "3.8.8"
  }
 },
 "nbformat": 4,
 "nbformat_minor": 2
}
