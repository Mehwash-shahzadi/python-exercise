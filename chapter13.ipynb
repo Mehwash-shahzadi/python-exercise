{
 "cells": [
  {
   "cell_type": "markdown",
   "metadata": {},
   "source": [
    "#Enumerate function"
   ]
  },
  {
   "cell_type": "code",
   "execution_count": 3,
   "metadata": {},
   "outputs": [
    {
     "name": "stdout",
     "output_type": "stream",
     "text": [
      "2\n"
     ]
    }
   ],
   "source": [
    "def func(l,target):\n",
    "    for pos,name in enumerate(l):\n",
    "        if name==target:\n",
    "            return pos\n",
    "    return -1   \n",
    "l=['mehwash','maheen','samreen']\n",
    "print(func(l,'samreen'))\n"
   ]
  },
  {
   "cell_type": "markdown",
   "metadata": {},
   "source": [
    "#Map function"
   ]
  },
  {
   "cell_type": "code",
   "execution_count": null,
   "metadata": {},
   "outputs": [
    {
     "name": "stdout",
     "output_type": "stream",
     "text": [
      "[1, 4, 9, 16]\n"
     ]
    }
   ],
   "source": [
    "numbers=[1,2,3,4]\n",
    "square=list(map(lambda a:a**2,numbers))#phle hmm lambda function dein g jo task perform krna h or pr comma lga krr list jss pr wo function kam kre ga.\n",
    "print(square)"
   ]
  },
  {
   "cell_type": "markdown",
   "metadata": {},
   "source": [
    "#Filter Function"
   ]
  },
  {
   "cell_type": "code",
   "execution_count": 5,
   "metadata": {},
   "outputs": [
    {
     "name": "stdout",
     "output_type": "stream",
     "text": [
      "[2, 4, 6, 8, 10]\n"
     ]
    }
   ],
   "source": [
    "numbers=[1,2,3,4,5,6,7,8,9,10]\n",
    "square=list(filter(lambda a:a%2==0,numbers))#phle hmm lambda function dein g jo task perform krna h or pr comma lga krr list jss pr wo function kam kre ga.\n",
    "print(square)"
   ]
  },
  {
   "cell_type": "markdown",
   "metadata": {},
   "source": [
    "#iterator vs iterables"
   ]
  },
  {
   "cell_type": "code",
   "execution_count": null,
   "metadata": {},
   "outputs": [],
   "source": [
    "\n",
    "numbers=[1,2,3,4,5,6,7,8,9,10]#list , tuple , string ..... are iterables.\n",
    "square=list(filter(lambda a:a%2==0,numbers))#square is iterator\n",
    "print(square)\n"
   ]
  },
  {
   "cell_type": "markdown",
   "metadata": {},
   "source": [
    "#zip function"
   ]
  },
  {
   "cell_type": "code",
   "execution_count": 5,
   "metadata": {},
   "outputs": [
    {
     "name": "stdout",
     "output_type": "stream",
     "text": [
      "(1, 6)\n",
      "(2, 7)\n",
      "(3, 8)\n",
      "(4, 9)\n"
     ]
    }
   ],
   "source": [
    "l1=[1,2,3,4]\n",
    "l2=[6,7,8,9]\n",
    "for  pair in zip(l1,l2):\n",
    "    print(pair)"
   ]
  },
  {
   "cell_type": "code",
   "execution_count": 10,
   "metadata": {},
   "outputs": [
    {
     "name": "stdout",
     "output_type": "stream",
     "text": [
      "{'user1': 'mehwash', 'user2': 'maheen', 'user3': 'ali'}\n"
     ]
    }
   ],
   "source": [
    "user_id=['user1','user2','user3']\n",
    "names=['mehwash','maheen','ali']\n",
    "print(dict(zip(user_id,names)))"
   ]
  },
  {
   "cell_type": "code",
   "execution_count": null,
   "metadata": {},
   "outputs": [
    {
     "name": "stdout",
     "output_type": "stream",
     "text": [
      "{'a': 1, 'b': 2}\n"
     ]
    }
   ],
   "source": [
    "example=[('a',1),('b',2)]#tuple which have two items can convert into dictionary.tuple can have three items not convert into dictionary\n",
    "print(dict(example))"
   ]
  },
  {
   "cell_type": "code",
   "execution_count": 16,
   "metadata": {},
   "outputs": [
    {
     "name": "stdout",
     "output_type": "stream",
     "text": [
      "[1, 3, 5, 7]\n",
      "[2, 4, 6, 8]\n"
     ]
    }
   ],
   "source": [
    "l=[(1,2),(3,4),(5,6),(7,8)]#*use as a argument it unpack the items\n",
    "l1,l2=(zip(*l))\n",
    "print(list(l1))\n",
    "print(list(l2))"
   ]
  },
  {
   "cell_type": "code",
   "execution_count": 17,
   "metadata": {},
   "outputs": [
    {
     "name": "stdout",
     "output_type": "stream",
     "text": [
      "[2, 4, 6, 8]\n"
     ]
    }
   ],
   "source": [
    "l1=[1, 3, 5, 7]\n",
    "l2=[2, 4, 6, 8]\n",
    "new_list=[max(pair) for pair in zip(l1,l2)]\n",
    "print(new_list)"
   ]
  },
  {
   "cell_type": "markdown",
   "metadata": {},
   "source": [
    "define a function take any no.of list containing number\n",
    "\n",
    "[1,2,3] , [4,5,6] ,[7,8,9]\n",
    "\n",
    "return average\n",
    "\n",
    "using lambda to make this anynomous function"
   ]
  },
  {
   "cell_type": "code",
   "execution_count": 22,
   "metadata": {},
   "outputs": [
    {
     "name": "stdout",
     "output_type": "stream",
     "text": [
      "[2.5, 3.5, 4.5]\n"
     ]
    }
   ],
   "source": [
    "def average_finder(l1,l2):\n",
    "    average=[]\n",
    "    for pair in zip(l1,l2):\n",
    "        average.append(sum(pair)/len(pair))\n",
    "    return average\n",
    "print(average_finder([1,2,3],[4,5,6]))"
   ]
  },
  {
   "cell_type": "markdown",
   "metadata": {},
   "source": [
    "when we want to pass more list in a function as a parameter then we use *args."
   ]
  },
  {
   "cell_type": "code",
   "execution_count": 23,
   "metadata": {},
   "outputs": [
    {
     "name": "stdout",
     "output_type": "stream",
     "text": [
      "[2.5, 3.5, 4.5]\n"
     ]
    }
   ],
   "source": [
    "def average_finder(*args):\n",
    "    average=[]\n",
    "    for pair in zip(*args):\n",
    "        average.append(sum(pair)/len(pair))\n",
    "    return average\n",
    "print(average_finder([1,2,3],[4,5,6]))"
   ]
  },
  {
   "cell_type": "markdown",
   "metadata": {},
   "source": [
    "by using labmda function"
   ]
  },
  {
   "cell_type": "code",
   "execution_count": 24,
   "metadata": {},
   "outputs": [
    {
     "name": "stdout",
     "output_type": "stream",
     "text": [
      "[2.5, 3.5, 4.5]\n"
     ]
    }
   ],
   "source": [
    "average_finder=lambda *args: [sum(pair)/len(pair) for pair in zip(*args)]\n",
    "print(average_finder([1,2,3],[4,5,6]))"
   ]
  },
  {
   "cell_type": "code",
   "execution_count": null,
   "metadata": {},
   "outputs": [],
   "source": [
    "#all function: \n",
    "\n",
    "\n",
    "#any function"
   ]
  },
  {
   "cell_type": "code",
   "execution_count": null,
   "metadata": {},
   "outputs": [
    {
     "name": "stdout",
     "output_type": "stream",
     "text": [
      "True\n"
     ]
    }
   ],
   "source": [
    "l1=[2,4,6,8,10]\n",
    "result=all(([i%2==0 for i in l1]))#all function check kre ga k sree even hein then hi woo True dein ga\n",
    "print(result)"
   ]
  },
  {
   "cell_type": "code",
   "execution_count": null,
   "metadata": {},
   "outputs": [
    {
     "name": "stdout",
     "output_type": "stream",
     "text": [
      "True\n"
     ]
    }
   ],
   "source": [
    "l1=[1,4,3,0,39]\n",
    "result=any(([i%2==0 for i in l1]))#any agr koi ek bhi even ho ga list m to y even de dein ga.\n",
    "print(result)"
   ]
  },
  {
   "cell_type": "markdown",
   "metadata": {},
   "source": [
    "#advance max(iterable,iterator)"
   ]
  },
  {
   "cell_type": "markdown",
   "metadata": {},
   "source": [
    ".check which string have greater length"
   ]
  },
  {
   "cell_type": "code",
   "execution_count": 51,
   "metadata": {},
   "outputs": [
    {
     "name": "stdout",
     "output_type": "stream",
     "text": [
      "samreen \n",
      "mehwash murtaza\n"
     ]
    }
   ],
   "source": [
    "name=['mehwash murtaza','mobeen','anzish','samreen ']#name[0] has greater length but max return always the items which exist t the end an its wrong.\n",
    "print(max(name))\n",
    "\n",
    "name=['mehwash murtaza','mobeen','anzish','samreen']\n",
    "print(max(name,key=len))\n",
    "# print(max(name,key=lambda a:len(a)))\n",
    "\n"
   ]
  },
  {
   "cell_type": "markdown",
   "metadata": {},
   "source": [
    "#advance min() Function"
   ]
  },
  {
   "cell_type": "code",
   "execution_count": null,
   "metadata": {},
   "outputs": [
    {
     "name": "stdout",
     "output_type": "stream",
     "text": [
      "ab\n",
      "k\n"
     ]
    }
   ],
   "source": [
    "name=['mehwash ghulam murtaza','ab','mobeen','anzish','samreen murtaza','k']\n",
    "print(min(name))#agr hmm normal min() ka use krte h to jo sbb s phle kmm length  wlla item aye ga wo hi return kr dein ga\n",
    "name=['mehwash ghulam murtaza','ab','mobeen','anzish','samreen murtaza','k']\n",
    "print(min(name,key=len))#hmm advane min() function ka use kre g or btaye g k hmm kko length k according js kii minimum length h wo chaye\n"
   ]
  },
  {
   "cell_type": "markdown",
   "metadata": {},
   "source": [
    "#sorted method"
   ]
  },
  {
   "cell_type": "code",
   "execution_count": 63,
   "metadata": {},
   "outputs": [
    {
     "name": "stdout",
     "output_type": "stream",
     "text": [
      "['apple', 'grapes', 'mango']\n"
     ]
    }
   ],
   "source": [
    "fruit=['mango','grapes','apple']\n",
    "fruit.sort()\n",
    "print(fruit)#sort() method sort the items according to alphabets."
   ]
  },
  {
   "cell_type": "markdown",
   "metadata": {},
   "source": [
    "#sorted function"
   ]
  },
  {
   "cell_type": "code",
   "execution_count": null,
   "metadata": {},
   "outputs": [
    {
     "name": "stdout",
     "output_type": "stream",
     "text": [
      "['apple', 'grapes', 'mango']\n",
      "('mango', 'grapes', 'apple')\n"
     ]
    }
   ],
   "source": [
    "#for example we have tuple we want to sort items but tuples are immuteable.sort method can't work on this ,so we use sorted function\n",
    "#sorted can't change the tuple but it return a sorted list of items.\n",
    "fruit=('mango','grapes','apple')\n",
    "# fruit.sort()#when we apply this method it give us a error(AttributeError: 'tuple' object has no attribute 'sort')\n",
    "print(sorted(fruit))#it return us a sorted list \n",
    "print(fruit)#tuple not change"
   ]
  },
  {
   "cell_type": "markdown",
   "metadata": {},
   "source": [
    "#advance sorted function"
   ]
  },
  {
   "cell_type": "code",
   "execution_count": null,
   "metadata": {},
   "outputs": [
    {
     "name": "stdout",
     "output_type": "stream",
     "text": [
      "[{'model': 'faith apollo venus', 'price': 35000}, {'model': 'faith natune', 'price': 50000}, {'model': 'tylor 814ce', 'price': 54000}, {'model': 'yama f310', 'price': 84000}]\n",
      "[{'model': 'yama f310', 'price': 84000}, {'model': 'tylor 814ce', 'price': 54000}, {'model': 'faith natune', 'price': 50000}, {'model': 'faith apollo venus', 'price': 35000}]\n"
     ]
    }
   ],
   "source": [
    "guitor=[\n",
    "    {'model':'yama f310','price':84000},\n",
    "    {'model':'faith natune','price':50000},\n",
    "    {'model':'faith apollo venus','price':35000},\n",
    "    {'model':'tylor 814ce','price':54000}\n",
    "]\n",
    "print(sorted(guitor,key=lambda d:d['price']))\n",
    "print(sorted(guitor,key=lambda d:d['price'],reverse=True))#reverse true krne s jss kii price sb s zeada ho gii wo phle a jaye ga pr km wale a jaye g"
   ]
  },
  {
   "cell_type": "markdown",
   "metadata": {},
   "source": [
    ".what are doc string :((it is a doc string which help us to know what function will do))\n",
    "\n",
    ".how to write docstring :(docstring write under the'''''' and \"\"\"\"\"\")\n",
    "\n",
    ".how to see docstring: print(functionname.__doc__)\n",
    "\n",
    ".what is help function: this function we use when we forget about anyfunction ."
   ]
  },
  {
   "cell_type": "code",
   "execution_count": 74,
   "metadata": {},
   "outputs": [
    {
     "name": "stdout",
     "output_type": "stream",
     "text": [
      "add two numbers\n",
      "7\n"
     ]
    }
   ],
   "source": [
    "def add(a,b):\n",
    "    '''add two numbers'''\n",
    "    return a+b\n",
    "print(add.__doc__)\n",
    "print(add(3,4))"
   ]
  },
  {
   "cell_type": "code",
   "execution_count": 75,
   "metadata": {},
   "outputs": [
    {
     "name": "stdout",
     "output_type": "stream",
     "text": [
      "Help on built-in function sum in module builtins:\n",
      "\n",
      "sum(iterable, /, start=0)\n",
      "    Return the sum of a 'start' value (default: 0) plus an iterable of numbers\n",
      "    \n",
      "    When the iterable is empty, return the start value.\n",
      "    This function is intended specifically for use with numeric values and may\n",
      "    reject non-numeric types.\n",
      "\n",
      "None\n"
     ]
    }
   ],
   "source": [
    "print(help(sum))"
   ]
  },
  {
   "cell_type": "code",
   "execution_count": null,
   "metadata": {},
   "outputs": [],
   "source": []
  }
 ],
 "metadata": {
  "kernelspec": {
   "display_name": "Python 3",
   "language": "python",
   "name": "python3"
  },
  "language_info": {
   "codemirror_mode": {
    "name": "ipython",
    "version": 3
   },
   "file_extension": ".py",
   "mimetype": "text/x-python",
   "name": "python",
   "nbconvert_exporter": "python",
   "pygments_lexer": "ipython3",
   "version": "3.8.8"
  }
 },
 "nbformat": 4,
 "nbformat_minor": 2
}
