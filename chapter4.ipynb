{
 "cells": [
  {
   "cell_type": "markdown",
   "metadata": {},
   "source": [
    "#FUNCTION"
   ]
  },
  {
   "cell_type": "markdown",
   "metadata": {},
   "source": [
    "define a function which takes two number as a input and return greater of two number."
   ]
  },
  {
   "cell_type": "code",
   "execution_count": 3,
   "metadata": {},
   "outputs": [
    {
     "name": "stdout",
     "output_type": "stream",
     "text": [
      "7 is greater\n",
      "None\n"
     ]
    }
   ],
   "source": [
    "def greater_number(num1,num2):\n",
    "    if num1>num2:\n",
    "        print(f'{num1} is greater')\n",
    "    else:\n",
    "        print(f'{num2} is greater')\n",
    "num1=int(input('enter the number 1:'))\n",
    "num2=int(input('enter the number 2:'))\n",
    "result=greater_number(num1,num2)\n",
    "print(result)"
   ]
  },
  {
   "cell_type": "markdown",
   "metadata": {},
   "source": [
    "define a function which takes 3 numbers as a input and return greater of three number."
   ]
  },
  {
   "cell_type": "code",
   "execution_count": 4,
   "metadata": {},
   "outputs": [
    {
     "name": "stdout",
     "output_type": "stream",
     "text": [
      "5 is greater\n",
      "None\n"
     ]
    }
   ],
   "source": [
    "def greater_number(a,b,c):\n",
    "    if a>b and a>c:\n",
    "        print(f'{a} is greater')\n",
    "    elif b>a and b>c:\n",
    "        print(f'{c} is greater')\n",
    "    else:\n",
    "        print(f'{c} is greater')\n",
    "a=int(input('enter the value of a:'))\n",
    "b=int(input('enter the value of b:'))\n",
    "c=int(input('enter the value of c:'))\n",
    "result=greater_number(a,b,c)\n",
    "print(result)"
   ]
  },
  {
   "cell_type": "markdown",
   "metadata": {},
   "source": [
    "define is_palindrome function that take one word in string as input and return True if it is palindrome else return False.\n",
    "\n",
    "palindrome  words that reads same backword as forword "
   ]
  },
  {
   "cell_type": "code",
   "execution_count": 2,
   "metadata": {},
   "outputs": [
    {
     "name": "stdout",
     "output_type": "stream",
     "text": [
      "False\n"
     ]
    }
   ],
   "source": [
    "def is_palindrome(word):\n",
    "    return word==word[::-1]\n",
    "\n",
    "result=is_palindrome('mishi')\n",
    "print(result)"
   ]
  },
  {
   "cell_type": "markdown",
   "metadata": {},
   "source": [
    "#Fibanocci Sequence"
   ]
  },
  {
   "cell_type": "code",
   "execution_count": 13,
   "metadata": {},
   "outputs": [
    {
     "name": "stdout",
     "output_type": "stream",
     "text": [
      "0 1 1 None\n"
     ]
    }
   ],
   "source": [
    "def feb_sequence(n):\n",
    "    a=0\n",
    "    b=1\n",
    "    if  n<=0:\n",
    "        print(f'enter positive integer')\n",
    "    elif n==1:\n",
    "        print(f'febonacci sequence : {a}')\n",
    "    elif n==2:\n",
    "        print(f' fibanocci sequence :{a} {b}')\n",
    "    else:\n",
    "        print(a,b,end=\" \")\n",
    "        for i in range(n-2):\n",
    "            c=a+b\n",
    "            a=b\n",
    "            b=c\n",
    "            print(b , end=\" \")\n",
    "print(feb_sequence(3))\n",
    "\n",
    "    "
   ]
  }
 ],
 "metadata": {
  "kernelspec": {
   "display_name": "Python 3",
   "language": "python",
   "name": "python3"
  },
  "language_info": {
   "codemirror_mode": {
    "name": "ipython",
    "version": 3
   },
   "file_extension": ".py",
   "mimetype": "text/x-python",
   "name": "python",
   "nbconvert_exporter": "python",
   "pygments_lexer": "ipython3",
   "version": "3.8.8"
  }
 },
 "nbformat": 4,
 "nbformat_minor": 2
}
