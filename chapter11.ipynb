{
 "cells": [
  {
   "cell_type": "markdown",
   "metadata": {},
   "source": [
    "#make fllexible function \n",
    "\n",
    ".*operator\n",
    "\n",
    ".*args\n"
   ]
  },
  {
   "cell_type": "code",
   "execution_count": 9,
   "metadata": {},
   "outputs": [
    {
     "name": "stdout",
     "output_type": "stream",
     "text": [
      "(1, 2, 3, 4)\n"
     ]
    }
   ],
   "source": [
    "def all_total(*args):\n",
    "    return args\n",
    "print(all_total(1,2,3,4))"
   ]
  },
  {
   "cell_type": "code",
   "execution_count": 11,
   "metadata": {},
   "outputs": [
    {
     "name": "stdout",
     "output_type": "stream",
     "text": [
      "10\n"
     ]
    }
   ],
   "source": [
    "def all_total(*args):\n",
    "    sum=0\n",
    "    for i in args:\n",
    "        sum+=i\n",
    "    return sum\n",
    "print(all_total(1,2,3,4))"
   ]
  },
  {
   "cell_type": "markdown",
   "metadata": {},
   "source": [
    "#*args with normal parameter.\n",
    "\n",
    ".after *args we cannot pas any argument it give typeError.\n",
    "\n",
    ".before *args we can give argument it not give any error.but if we not give argument to normal parameter it give error\n"
   ]
  },
  {
   "cell_type": "code",
   "execution_count": null,
   "metadata": {},
   "outputs": [
    {
     "name": "stdout",
     "output_type": "stream",
     "text": [
      "(1, (2, 3, 4))\n"
     ]
    }
   ],
   "source": [
    "# def all_total(*args,num1):#its wrong way we cannot write in this way.\n",
    "#     return args,num1\n",
    "# print(all_total(1,2,3,4))\n",
    "def all_total(num1,*args):\n",
    "    return num1,args\n",
    "print(all_total(1,2,3,4))\n",
    "# def all_total(num1,*args):\n",
    "#     return num1,args\n",
    "# print(all_total())#now we not give any argument so it give typeError.give argument to num1 is necessary."
   ]
  },
  {
   "cell_type": "markdown",
   "metadata": {},
   "source": [
    "#*args as argument"
   ]
  },
  {
   "cell_type": "markdown",
   "metadata": {},
   "source": [
    "#EXERCISE"
   ]
  },
  {
   "cell_type": "markdown",
   "metadata": {},
   "source": [
    "Question#1 \n",
    "\n",
    ".define a function\n",
    "\n",
    ".input(num,iterable(tuple,list) containing numbers as args)\n",
    "\n",
    ".example\n",
    "\n",
    ".number=[1,2,3,4]\n",
    "\n",
    ".to_power(3,*number)\n",
    "\n",
    ".[1**3,.....]...........output\n",
    "\n",
    ".if user did not pass any args then give a user a message 'hey  you did't pass args.\n",
    "\n",
    ".else return list."
   ]
  },
  {
   "cell_type": "code",
   "execution_count": 45,
   "metadata": {},
   "outputs": [
    {
     "name": "stdout",
     "output_type": "stream",
     "text": [
      "[1, 8, 27, 64]\n"
     ]
    }
   ],
   "source": [
    "def power_function(num,*args):\n",
    "    li=[]\n",
    "    if args:\n",
    "       for i  in args:\n",
    "           number=i**num\n",
    "           li.append(number)\n",
    "    else:\n",
    "        return 'hey you did not pass args'\n",
    "    return li\n",
    "number=[1,2,3,4]\n",
    "print(power_function(3,*number))"
   ]
  },
  {
   "cell_type": "markdown",
   "metadata": {},
   "source": [
    ".list comprehnsion"
   ]
  },
  {
   "cell_type": "code",
   "execution_count": 44,
   "metadata": {},
   "outputs": [
    {
     "name": "stdout",
     "output_type": "stream",
     "text": [
      "[1, 8, 27, 64]\n"
     ]
    }
   ],
   "source": [
    "def power_function(num,*args):\n",
    "    if args:\n",
    "        return [i**num for i in args]\n",
    "    else:\n",
    "        return \"you did't pass any args\"\n",
    "number=[1,2,3,4]\n",
    "print(power_function(3,*number))"
   ]
  },
  {
   "cell_type": "markdown",
   "metadata": {},
   "source": [
    "#kwargs(key word argument)"
   ]
  },
  {
   "cell_type": "code",
   "execution_count": 1,
   "metadata": {},
   "outputs": [
    {
     "name": "stdout",
     "output_type": "stream",
     "text": [
      "{'a': 2, 'b': 3}\n"
     ]
    }
   ],
   "source": [
    "def new_func(**kwargs):\n",
    "    return kwargs\n",
    "print(new_func(a=2,b=3))"
   ]
  },
  {
   "cell_type": "markdown",
   "metadata": {},
   "source": [
    "#function with all parameter.\n",
    "\n",
    ".folow the order(PADK)\n",
    "\n",
    ".parameter,*args,default parameter,**kwargs"
   ]
  },
  {
   "cell_type": "code",
   "execution_count": null,
   "metadata": {},
   "outputs": [
    {
     "name": "stdout",
     "output_type": "stream",
     "text": [
      "mehwash\n",
      "(1, 2, 3, 4, 'shahzadi')\n",
      "unknown\n",
      "{'a': 1, 'b': 2}\n"
     ]
    }
   ],
   "source": [
    "def func(name,*args,last_name='unknown',**kwargs):\n",
    "    print(name)\n",
    "    print(args)\n",
    "    print(last_name)\n",
    "    print(kwargs)\n",
    "func('mehwash',1,2,3,4,a=1,b=2)"
   ]
  },
  {
   "cell_type": "markdown",
   "metadata": {},
   "source": [
    "#EXERCISE"
   ]
  },
  {
   "cell_type": "markdown",
   "metadata": {},
   "source": [
    "Question#2 "
   ]
  },
  {
   "cell_type": "markdown",
   "metadata": {},
   "source": [
    "#Lambda expression"
   ]
  },
  {
   "cell_type": "code",
   "execution_count": null,
   "metadata": {},
   "outputs": [
    {
     "name": "stdout",
     "output_type": "stream",
     "text": [
      "5\n",
      "6\n"
     ]
    }
   ],
   "source": [
    "add2=lambda a,b:a+b#lambda it is a anomonuous function its use with built in function map,reduce,filter but there we store result in a variable.its not a function .\n",
    "print(add2(2,3))\n",
    "multiply1=lambda a,b:a*b\n",
    "print(multiply1(2,3))"
   ]
  },
  {
   "cell_type": "markdown",
   "metadata": {},
   "source": [
    ".number is even or odd"
   ]
  },
  {
   "cell_type": "code",
   "execution_count": 11,
   "metadata": {},
   "outputs": [
    {
     "name": "stdout",
     "output_type": "stream",
     "text": [
      "False\n"
     ]
    }
   ],
   "source": [
    "iseven=lambda a : a%2==0\n",
    "print(iseven(3))"
   ]
  },
  {
   "cell_type": "code",
   "execution_count": 12,
   "metadata": {},
   "outputs": [
    {
     "name": "stdout",
     "output_type": "stream",
     "text": [
      "h\n"
     ]
    }
   ],
   "source": [
    "lastchar=lambda name : name[-1]\n",
    "print(lastchar('mehwash'))"
   ]
  },
  {
   "cell_type": "markdown",
   "metadata": {},
   "source": [
    "#if_else with lambda expression"
   ]
  },
  {
   "cell_type": "markdown",
   "metadata": {},
   "source": [
    ".made a lambda function that take a string if length is greater give true otherwise give false"
   ]
  },
  {
   "cell_type": "code",
   "execution_count": 14,
   "metadata": {},
   "outputs": [
    {
     "name": "stdout",
     "output_type": "stream",
     "text": [
      "True\n"
     ]
    }
   ],
   "source": [
    "func=lambda s : len(s)>5\n",
    "print(func('mishil'))"
   ]
  }
 ],
 "metadata": {
  "kernelspec": {
   "display_name": "Python 3",
   "language": "python",
   "name": "python3"
  },
  "language_info": {
   "codemirror_mode": {
    "name": "ipython",
    "version": 3
   },
   "file_extension": ".py",
   "mimetype": "text/x-python",
   "name": "python",
   "nbconvert_exporter": "python",
   "pygments_lexer": "ipython3",
   "version": "3.8.8"
  }
 },
 "nbformat": 4,
 "nbformat_minor": 2
}
