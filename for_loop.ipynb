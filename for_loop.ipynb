{
 "cells": [
  {
   "cell_type": "markdown",
   "metadata": {},
   "source": [
    "sum from 1 to 10."
   ]
  },
  {
   "cell_type": "code",
   "execution_count": 1,
   "metadata": {},
   "outputs": [
    {
     "name": "stdout",
     "output_type": "stream",
     "text": [
      "55\n"
     ]
    }
   ],
   "source": [
    "sum=0\n",
    "for i in range(1,11):\n",
    "    sum+=i\n",
    "print(sum)"
   ]
  },
  {
   "cell_type": "markdown",
   "metadata": {},
   "source": [
    "ask user number like 1256 calculate sum of digits"
   ]
  },
  {
   "cell_type": "code",
   "execution_count": 5,
   "metadata": {},
   "outputs": [
    {
     "name": "stdout",
     "output_type": "stream",
     "text": [
      "14\n"
     ]
    }
   ],
   "source": [
    "number='1256'\n",
    "sum=0\n",
    "for i in number:\n",
    "    sum+=int(i)\n",
    "print(sum)\n"
   ]
  },
  {
   "cell_type": "code",
   "execution_count": 7,
   "metadata": {},
   "outputs": [
    {
     "name": "stdout",
     "output_type": "stream",
     "text": [
      "14\n"
     ]
    }
   ],
   "source": [
    "number='1256'\n",
    "sum=0\n",
    "for i in range(len(number)):\n",
    "    sum+=int(number[i])\n",
    "print(sum)"
   ]
  },
  {
   "cell_type": "code",
   "execution_count": null,
   "metadata": {},
   "outputs": [
    {
     "name": "stdout",
     "output_type": "stream",
     "text": [
      "m:1\n",
      "i:2\n",
      "s:1\n",
      "h:1\n",
      "mish\n"
     ]
    }
   ],
   "source": [
    "name='mishi'\n",
    "temp=\"\"\n",
    "for i in range(len(name)):\n",
    "    if name[i] not in temp:\n",
    "        temp+=name[i]\n",
    "        print(f'{name[i]}:{name.count(name[i])}')\n",
    "\n"
   ]
  },
  {
   "cell_type": "markdown",
   "metadata": {},
   "source": [
    "#EXERCISE"
   ]
  },
  {
   "cell_type": "markdown",
   "metadata": {},
   "source": [
    "modify number guessing game"
   ]
  },
  {
   "cell_type": "code",
   "execution_count": 1,
   "metadata": {},
   "outputs": [
    {
     "name": "stdout",
     "output_type": "stream",
     "text": [
      "high\n",
      "you win ,and you guessed this number in 2 times\n"
     ]
    }
   ],
   "source": [
    "number=33\n",
    "guess=1\n",
    "guess_number=int(input('guess number between 1 to 100:'))\n",
    "game_over=False\n",
    "while not game_over:\n",
    "    if guess_number==number:\n",
    "        print(f'you win ,and you guessed this number in {guess} times')\n",
    "        game_over=True\n",
    "    else:\n",
    "        if guess_number<number:\n",
    "            print('low')\n",
    "        else:\n",
    "            print('high')\n",
    "        guess+=1\n",
    "        guess_number=int(input('guess number'))    \n",
    "    \n"
   ]
  },
  {
   "cell_type": "markdown",
   "metadata": {},
   "source": [
    "\"\"\"Given a list of dictionaries where each dictionary represents a person with keys 'name', 'age', and 'city',\n",
    " create a new list  that includes only the names of people who are older than 30 and live in a specific city (e.g., 'New York').\n",
    "\n",
    "people = [\n",
    "    {'name': 'John', 'age': 25, 'city': 'New York'},\n",
    "\n",
    "    {'name': 'Alice', 'age': 35, 'city': 'New York'},\n",
    "\n",
    "    {'name': 'Bob', 'age': 40, 'city': 'Chicago'},\n",
    "    \n",
    "    {'name': 'Eve', 'age': 32, 'city': 'New York'}\n",
    "]\"\"\""
   ]
  },
  {
   "cell_type": "code",
   "execution_count": null,
   "metadata": {},
   "outputs": [],
   "source": [
    "people = [\n",
    "    {'name': 'John', 'age': 25, 'city': 'New York'},\n",
    "\n",
    "    {'name': 'Alice', 'age': 35, 'city': 'New York'},\n",
    "\n",
    "    {'name': 'Bob', 'age': 40, 'city': 'Chicago'},\n",
    "    \n",
    "    {'name': 'Eve', 'age': 32, 'city': 'New York'}\n",
    "]\n",
    "l=[]\n",
    "for peoples in people:\n",
    "    if peoples['age']>30 and peoples['city']=='New York':\n",
    "        l.append(peoples['name'])\n",
    "print(l)\n",
    "    "
   ]
  },
  {
   "cell_type": "markdown",
   "metadata": {},
   "source": [
    ".a function that take a list as input and return the first element if it duplicate present in list otherwise return none."
   ]
  },
  {
   "cell_type": "code",
   "execution_count": 1,
   "metadata": {},
   "outputs": [
    {
     "name": "stdout",
     "output_type": "stream",
     "text": [
      "3\n"
     ]
    }
   ],
   "source": [
    "def duplicate_number(l):\n",
    "    if l.count(l[0])>1:\n",
    "        return(l[0])\n",
    "    else:\n",
    "        return 'none'\n",
    "l=[3,4,5,6,3]\n",
    "result=duplicate_number(l)\n",
    "print(result)"
   ]
  }
 ],
 "metadata": {
  "kernelspec": {
   "display_name": "Python 3",
   "language": "python",
   "name": "python3"
  },
  "language_info": {
   "codemirror_mode": {
    "name": "ipython",
    "version": 3
   },
   "file_extension": ".py",
   "mimetype": "text/x-python",
   "name": "python",
   "nbconvert_exporter": "python",
   "pygments_lexer": "ipython3",
   "version": "3.8.8"
  }
 },
 "nbformat": 4,
 "nbformat_minor": 2
}
